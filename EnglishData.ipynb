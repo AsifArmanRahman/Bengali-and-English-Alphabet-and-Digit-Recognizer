{
 "cells": [
  {
   "cell_type": "code",
   "execution_count": 1,
   "id": "divine-craft",
   "metadata": {},
   "outputs": [],
   "source": [
    "import pandas as pd\n",
    "import warnings\n",
    "warnings.filterwarnings('ignore')"
   ]
  },
  {
   "cell_type": "code",
   "execution_count": 2,
   "id": "international-jones",
   "metadata": {},
   "outputs": [],
   "source": [
    "df = pd.read_csv(\"Data/English/train.csv\")"
   ]
  },
  {
   "cell_type": "code",
   "execution_count": 3,
   "id": "super-locator",
   "metadata": {},
   "outputs": [
    {
     "data": {
      "text/plain": [
       "1    4684\n",
       "7    4401\n",
       "3    4351\n",
       "9    4188\n",
       "2    4177\n",
       "6    4137\n",
       "0    4132\n",
       "4    4072\n",
       "8    4063\n",
       "5    3795\n",
       "Name: label, dtype: int64"
      ]
     },
     "execution_count": 3,
     "metadata": {},
     "output_type": "execute_result"
    }
   ],
   "source": [
    "Y_train = df[\"label\"]\n",
    "\n",
    "# Drop 'label' column\n",
    "X_train = df.drop(labels = [\"label\"],axis = 1) \n",
    "\n",
    "# free some space\n",
    "del df\n",
    "\n",
    "Y_train.value_counts()"
   ]
  },
  {
   "cell_type": "code",
   "execution_count": 4,
   "id": "peaceful-shakespeare",
   "metadata": {},
   "outputs": [
    {
     "data": {
      "image/png": "[encoded data removed]",
      "text/plain": [
       "<Figure size 432x288 with 1 Axes>"
      ]
     },
     "metadata": {
      "needs_background": "light"
     },
     "output_type": "display_data"
    }
   ],
   "source": [
    "import seaborn as sns\n",
    "graph = sns.countplot(Y_train)"
   ]
  },
  {
   "cell_type": "code",
   "execution_count": 5,
   "id": "czech-appliance",
   "metadata": {},
   "outputs": [
    {
     "data": {
      "text/plain": [
       "count       784\n",
       "unique        1\n",
       "top       False\n",
       "freq        784\n",
       "dtype: object"
      ]
     },
     "execution_count": 5,
     "metadata": {},
     "output_type": "execute_result"
    }
   ],
   "source": [
    "X_train.isnull().any().describe()"
   ]
  },
  {
   "cell_type": "code",
   "execution_count": 6,
   "id": "little-anxiety",
   "metadata": {},
   "outputs": [],
   "source": [
    "X_train /=  255.0"
   ]
  },
  {
   "cell_type": "code",
   "execution_count": 7,
   "id": "faced-whole",
   "metadata": {},
   "outputs": [],
   "source": [
    "X_train = X_train.values.reshape(-1,28,28,1).astype('float32')"
   ]
  },
  {
   "cell_type": "code",
   "execution_count": 8,
   "id": "grave-monitor",
   "metadata": {},
   "outputs": [],
   "source": [
    "from keras.utils.np_utils import to_categorical # convert to one-hot-encoding\n",
    "\n",
    "# Encode labels to one hot vectors (ex : 2 -> [0,0,1,0,0,0,0,0,0,0])\n",
    "Y_train = to_categorical(Y_train, num_classes = 10)"
   ]
  },
  {
   "cell_type": "code",
   "execution_count": 9,
   "id": "contained-asset",
   "metadata": {},
   "outputs": [],
   "source": [
    "from sklearn.model_selection import train_test_split\n",
    "\n",
    "X_train, X_val, Y_train, Y_val = train_test_split(X_train, Y_train, test_size = 0.15, random_state=42)"
   ]
  },
  {
   "cell_type": "code",
   "execution_count": 10,
   "id": "exciting-console",
   "metadata": {},
   "outputs": [],
   "source": [
    "from keras.models import Sequential\n",
    "from keras.layers import Dense, Dropout, Flatten, Conv2D, MaxPool2D\n",
    "\n",
    "\n",
    "# my CNN architechture is In -> [[Conv2D->relu]*2 -> MaxPool2D -> Dropout]*2 -> Flatten -> Dense -> Dropout -> Dense -> Out\n",
    "\n",
    "model = Sequential()\n",
    "\n",
    "model.add(Conv2D(filters = 32, kernel_size = (5,5),padding = 'Same', activation ='relu', input_shape = (28,28,1)))\n",
    "model.add(Conv2D(filters = 32, kernel_size = (5,5),padding = 'Same', activation ='relu'))\n",
    "model.add(MaxPool2D(pool_size=(2,2)))\n",
    "model.add(Dropout(0.25))\n",
    "\n",
    "model.add(Conv2D(filters = 64, kernel_size = (3,3),padding = 'Same', activation ='relu'))\n",
    "model.add(Conv2D(filters = 64, kernel_size = (3,3),padding = 'Same', activation ='relu'))\n",
    "model.add(MaxPool2D(pool_size=(2,2), strides=(2,2)))\n",
    "model.add(Dropout(0.25))\n",
    "\n",
    "model.add(Flatten())\n",
    "model.add(Dense(256, activation = \"relu\"))\n",
    "model.add(Dropout(0.5))\n",
    "model.add(Dense(10, activation = \"softmax\"))"
   ]
  },
  {
   "cell_type": "code",
   "execution_count": 11,
   "id": "adopted-permit",
   "metadata": {},
   "outputs": [],
   "source": [
    "from keras.optimizers import RMSprop\n",
    "\n",
    "optimizer = RMSprop(lr=0.001, rho=0.9, epsilon=1e-08, decay=0.0)"
   ]
  },
  {
   "cell_type": "code",
   "execution_count": 12,
   "id": "registered-sally",
   "metadata": {},
   "outputs": [],
   "source": [
    "model.compile(optimizer = optimizer , loss = \"categorical_crossentropy\", metrics=[\"accuracy\"])"
   ]
  },
  {
   "cell_type": "code",
   "execution_count": 13,
   "id": "round-receptor",
   "metadata": {},
   "outputs": [],
   "source": [
    "from keras.callbacks import ReduceLROnPlateau\n",
    "\n",
    "learning_rate_reduction = ReduceLROnPlateau(monitor='val_accuracy', patience=3, verbose=1, factor=0.5, min_lr=0.00001)"
   ]
  },
  {
   "cell_type": "code",
   "execution_count": 14,
   "id": "israeli-scanning",
   "metadata": {},
   "outputs": [],
   "source": [
    "from keras.preprocessing.image import ImageDataGenerator\n",
    "\n",
    "# data augmentation\n",
    "\n",
    "datagen = ImageDataGenerator(\n",
    "  \n",
    "        featurewise_center=False,                      # set input mean to 0 over the dataset\n",
    "        samplewise_center=False,                       # set each sample mean to 0\n",
    "        featurewise_std_normalization=False,           # divide inputs by std of the dataset\n",
    "        samplewise_std_normalization=False,            # divide each input by its std\n",
    "        zca_whitening=False,                           # apply ZCA whitening\n",
    "        rotation_range=10,                             # randomly rotate images in the range (degrees, 0 to 180)\n",
    "        zoom_range = 0.1,                              # Randomly zoom image \n",
    "        width_shift_range=0.1,                         # randomly shift images horizontally (fraction of total width)\n",
    "        height_shift_range=0.1,                        # randomly shift images vertically (fraction of total height)\n",
    "        horizontal_flip=False,                         # randomly flip images\n",
    "        vertical_flip=False)                           # randomly flip images\n",
    "\n",
    "\n",
    "datagen.fit(X_train)"
   ]
  },
  {
   "cell_type": "code",
   "execution_count": 15,
   "id": "lined-stability",
   "metadata": {},
   "outputs": [
    {
     "name": "stdout",
     "output_type": "stream",
     "text": [
      "Epoch 1/30\n",
      "415/415 - 107s - loss: 0.4548 - accuracy: 0.8509 - val_loss: 0.0839 - val_accuracy: 0.9735\n",
      "Epoch 2/30\n",
      "415/415 - 108s - loss: 0.1351 - accuracy: 0.9589 - val_loss: 0.0447 - val_accuracy: 0.9868\n",
      "Epoch 3/30\n",
      "415/415 - 108s - loss: 0.1020 - accuracy: 0.9698 - val_loss: 0.0359 - val_accuracy: 0.9895\n",
      "Epoch 4/30\n",
      "415/415 - 123s - loss: 0.0836 - accuracy: 0.9762 - val_loss: 0.0270 - val_accuracy: 0.9911\n",
      "Epoch 5/30\n",
      "415/415 - 116s - loss: 0.0747 - accuracy: 0.9775 - val_loss: 0.0336 - val_accuracy: 0.9900\n",
      "Epoch 6/30\n",
      "415/415 - 122s - loss: 0.0698 - accuracy: 0.9803 - val_loss: 0.0309 - val_accuracy: 0.9902\n",
      "Epoch 7/30\n",
      "415/415 - 124s - loss: 0.0664 - accuracy: 0.9808 - val_loss: 0.0276 - val_accuracy: 0.9914\n",
      "Epoch 8/30\n",
      "415/415 - 132s - loss: 0.0626 - accuracy: 0.9816 - val_loss: 0.0259 - val_accuracy: 0.9914\n",
      "Epoch 9/30\n",
      "415/415 - 116s - loss: 0.0610 - accuracy: 0.9825 - val_loss: 0.0323 - val_accuracy: 0.9906\n",
      "Epoch 10/30\n",
      "415/415 - 110s - loss: 0.0611 - accuracy: 0.9825 - val_loss: 0.0281 - val_accuracy: 0.9917\n",
      "Epoch 11/30\n",
      "415/415 - 110s - loss: 0.0588 - accuracy: 0.9828 - val_loss: 0.0289 - val_accuracy: 0.9905\n",
      "Epoch 12/30\n",
      "415/415 - 109s - loss: 0.0587 - accuracy: 0.9839 - val_loss: 0.0298 - val_accuracy: 0.9930\n",
      "Epoch 13/30\n",
      "415/415 - 108s - loss: 0.0596 - accuracy: 0.9837 - val_loss: 0.0226 - val_accuracy: 0.9930\n",
      "Epoch 14/30\n",
      "415/415 - 108s - loss: 0.0572 - accuracy: 0.9841 - val_loss: 0.0388 - val_accuracy: 0.9898\n",
      "Epoch 15/30\n",
      "\n",
      "Epoch 00015: ReduceLROnPlateau reducing learning rate to 0.0005000000237487257.\n",
      "415/415 - 108s - loss: 0.0610 - accuracy: 0.9837 - val_loss: 0.0314 - val_accuracy: 0.9917\n",
      "Epoch 16/30\n",
      "415/415 - 109s - loss: 0.0464 - accuracy: 0.9867 - val_loss: 0.0291 - val_accuracy: 0.9929\n",
      "Epoch 17/30\n",
      "415/415 - 110s - loss: 0.0427 - accuracy: 0.9878 - val_loss: 0.0305 - val_accuracy: 0.9930\n",
      "Epoch 18/30\n",
      "\n",
      "Epoch 00018: ReduceLROnPlateau reducing learning rate to 0.0002500000118743628.\n",
      "415/415 - 109s - loss: 0.0463 - accuracy: 0.9879 - val_loss: 0.0255 - val_accuracy: 0.9930\n",
      "Epoch 19/30\n",
      "415/415 - 108s - loss: 0.0418 - accuracy: 0.9890 - val_loss: 0.0250 - val_accuracy: 0.9933\n",
      "Epoch 20/30\n",
      "415/415 - 109s - loss: 0.0355 - accuracy: 0.9902 - val_loss: 0.0234 - val_accuracy: 0.9938\n",
      "Epoch 21/30\n",
      "415/415 - 109s - loss: 0.0352 - accuracy: 0.9901 - val_loss: 0.0236 - val_accuracy: 0.9943\n",
      "Epoch 22/30\n",
      "415/415 - 109s - loss: 0.0409 - accuracy: 0.9886 - val_loss: 0.0230 - val_accuracy: 0.9933\n",
      "Epoch 23/30\n",
      "415/415 - 109s - loss: 0.0382 - accuracy: 0.9896 - val_loss: 0.0259 - val_accuracy: 0.9932\n",
      "Epoch 24/30\n",
      "\n",
      "Epoch 00024: ReduceLROnPlateau reducing learning rate to 0.0001250000059371814.\n",
      "415/415 - 109s - loss: 0.0373 - accuracy: 0.9896 - val_loss: 0.0252 - val_accuracy: 0.9925\n",
      "Epoch 25/30\n",
      "415/415 - 108s - loss: 0.0322 - accuracy: 0.9913 - val_loss: 0.0214 - val_accuracy: 0.9937\n",
      "Epoch 26/30\n",
      "415/415 - 108s - loss: 0.0325 - accuracy: 0.9912 - val_loss: 0.0212 - val_accuracy: 0.9940\n",
      "Epoch 27/30\n",
      "\n",
      "Epoch 00027: ReduceLROnPlateau reducing learning rate to 6.25000029685907e-05.\n",
      "415/415 - 109s - loss: 0.0324 - accuracy: 0.9910 - val_loss: 0.0228 - val_accuracy: 0.9937\n",
      "Epoch 28/30\n",
      "415/415 - 109s - loss: 0.0295 - accuracy: 0.9915 - val_loss: 0.0221 - val_accuracy: 0.9937\n",
      "Epoch 29/30\n",
      "415/415 - 110s - loss: 0.0311 - accuracy: 0.9911 - val_loss: 0.0215 - val_accuracy: 0.9937\n",
      "Epoch 30/30\n",
      "\n",
      "Epoch 00030: ReduceLROnPlateau reducing learning rate to 3.125000148429535e-05.\n",
      "415/415 - 109s - loss: 0.0295 - accuracy: 0.9909 - val_loss: 0.0221 - val_accuracy: 0.9941\n"
     ]
    }
   ],
   "source": [
    "# Fit the model\n",
    "history = model.fit(datagen.flow(X_train,Y_train, batch_size= 86), epochs = 30, validation_data = (X_val,Y_val),\n",
    "            verbose = 2, steps_per_epoch=X_train.shape[0] // 86, callbacks=[learning_rate_reduction])"
   ]
  },
  {
   "cell_type": "code",
   "execution_count": 16,
   "id": "saved-tolerance",
   "metadata": {},
   "outputs": [
    {
     "name": "stdout",
     "output_type": "stream",
     "text": [
      "Test loss: 0.02%\n",
      "Test accuracy: 0.9941%\n",
      "Large CNN Error: 0.59%\n"
     ]
    }
   ],
   "source": [
    "scores = model.evaluate(X_val, Y_val, verbose=0)                                                     \n",
    "\n",
    "print('Test loss: %.2f%%' % scores[0])\n",
    "print('Test accuracy: %.4f%%' % scores[1])\n",
    "print(\"Large CNN Error: %.2f%%\" % (100-scores[1]*100))"
   ]
  },
  {
   "cell_type": "code",
   "execution_count": 19,
   "id": "interracial-pointer",
   "metadata": {},
   "outputs": [
    {
     "data": {
      "image/png": "[encoded data removed]",
      "text/plain": [
       "<Figure size 720x720 with 2 Axes>"
      ]
     },
     "metadata": {
      "needs_background": "light"
     },
     "output_type": "display_data"
    }
   ],
   "source": [
    "import matplotlib.pyplot as plt\n",
    "%matplotlib inline\n",
    "\n",
    "# Plot the loss and accuracy curves for training and validation \n",
    "\n",
    "fig, ax = plt.subplots(2,1,figsize=(10, 10))\n",
    "\n",
    "ax[0].plot(history.history['loss'], color='b', label=\"Training loss\")\n",
    "ax[0].plot(history.history['val_loss'], color='r', label=\"Validation loss\",axes =ax[0])\n",
    "legend = ax[0].legend(loc='best', shadow=True)\n",
    "\n",
    "ax[1].plot(history.history['accuracy'], color='b', label=\"Training accuracy\")\n",
    "ax[1].plot(history.history['val_accuracy'], color='r',label=\"Validation accuracy\")\n",
    "legend = ax[1].legend(loc='best', shadow=True)"
   ]
  },
  {
   "cell_type": "code",
   "execution_count": 20,
   "id": "bizarre-engagement",
   "metadata": {},
   "outputs": [],
   "source": [
    "model.save('Models/E_D_9941.h5')"
   ]
  },
  {
   "cell_type": "code",
   "execution_count": 21,
   "id": "incorrect-journalism",
   "metadata": {},
   "outputs": [],
   "source": [
    "import numpy as np\n",
    "\n",
    "# Predict the values from the validation dataset\n",
    "Y_pred = model.predict(X_val)\n",
    "# Convert predictions classes to one hot vectors \n",
    "Y_pred_classes = np.argmax(Y_pred,axis = 1) \n",
    "\n",
    "# Convert validation observations to one hot vectors\n",
    "Y_true = np.argmax(Y_val,axis = 1) "
   ]
  },
  {
   "cell_type": "code",
   "execution_count": 22,
   "id": "forbidden-provision",
   "metadata": {},
   "outputs": [
    {
     "data": {
      "image/png": "[encoded data removed]",
      "text/plain": [
       "<Figure size 432x288 with 6 Axes>"
      ]
     },
     "metadata": {
      "needs_background": "light"
     },
     "output_type": "display_data"
    }
   ],
   "source": [
    "# Display some error results \n",
    "\n",
    "# Errors are difference between predicted labels and true labels\n",
    "errors = (Y_pred_classes - Y_true != 0)\n",
    "\n",
    "Y_pred_classes_errors = Y_pred_classes[errors]\n",
    "Y_pred_errors = Y_pred[errors]\n",
    "Y_true_errors = Y_true[errors]\n",
    "X_val_errors = X_val[errors]\n",
    "\n",
    "import matplotlib.pyplot as plt\n",
    "\n",
    "def display_errors(errors_index,img_errors,pred_errors, obs_errors):\n",
    "    \"\"\" This function shows 6 images with their predicted and real labels\"\"\"\n",
    "    n = 0\n",
    "    nrows = 2\n",
    "    ncols = 3\n",
    "    fig, ax = plt.subplots(nrows,ncols,sharex=True,sharey=True)\n",
    "    for row in range(nrows):\n",
    "        for col in range(ncols):\n",
    "            error = errors_index[n]\n",
    "            ax[row,col].imshow((img_errors[error]).reshape((28,28)))\n",
    "            ax[row,col].set_title(\"Predicted label :{}\\nTrue label :{}\".format(pred_errors[error],obs_errors[error]))\n",
    "            n += 1\n",
    "            \n",
    "            \n",
    "# Probabilities of the wrong predicted numbers\n",
    "Y_pred_errors_prob = np.max(Y_pred_errors,axis = 1)\n",
    "\n",
    "# Predicted probabilities of the true values in the error set\n",
    "true_prob_errors = np.diagonal(np.take(Y_pred_errors, Y_true_errors, axis=1))\n",
    "\n",
    "# Difference between the probability of the predicted label and the true label\n",
    "delta_pred_true_errors = Y_pred_errors_prob - true_prob_errors\n",
    "\n",
    "# Sorted list of the delta prob errors\n",
    "sorted_dela_errors = np.argsort(delta_pred_true_errors)\n",
    "\n",
    "# Top 6 errors \n",
    "most_important_errors = sorted_dela_errors[-6:]\n",
    "\n",
    "# Show the top 6 errors\n",
    "display_errors(most_important_errors, X_val_errors, Y_pred_classes_errors, Y_true_errors)"
   ]
  },
  {
   "cell_type": "code",
   "execution_count": null,
   "id": "united-going",
   "metadata": {},
   "outputs": [],
   "source": []
  }
 ],
 "metadata": {
  "kernelspec": {
   "display_name": "Python 3",
   "language": "python",
   "name": "python3"
  },
  "language_info": {
   "codemirror_mode": {
    "name": "ipython",
    "version": 3
   },
   "file_extension": ".py",
   "mimetype": "text/x-python",
   "name": "python",
   "nbconvert_exporter": "python",
   "pygments_lexer": "ipython3",
   "version": "3.8.8"
  }
 },
 "nbformat": 4,
 "nbformat_minor": 5
}
