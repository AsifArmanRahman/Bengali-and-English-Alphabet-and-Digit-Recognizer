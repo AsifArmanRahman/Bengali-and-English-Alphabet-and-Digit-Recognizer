{
 "cells": [
  {
   "cell_type": "code",
   "execution_count": 1,
   "id": "49a98bc8",
   "metadata": {},
   "outputs": [],
   "source": [
    "import warnings\n",
    "import numpy as np\n",
    "import pandas as pd\n",
    "import seaborn as sns\n",
    "import matplotlib.pyplot as plt\n",
    "\n",
    "%matplotlib inline\n",
    "warnings.filterwarnings('ignore')"
   ]
  },
  {
   "cell_type": "code",
   "execution_count": 2,
   "id": "3a71f049",
   "metadata": {},
   "outputs": [],
   "source": [
    "df = pd.read_csv('data/English/alphabet/A_Z Handwritten Data.csv')"
   ]
  },
  {
   "cell_type": "code",
   "execution_count": 3,
   "id": "86c8c537",
   "metadata": {},
   "outputs": [],
   "source": [
    "df.rename(columns={'0':'label'}, inplace=True)"
   ]
  },
  {
   "cell_type": "code",
   "execution_count": 4,
   "id": "0b03e046",
   "metadata": {},
   "outputs": [],
   "source": [
    "y = df[\"label\"]\n",
    "\n",
    "# Drop 'label' column\n",
    "X = df.drop(labels = [\"label\"],axis = 1)"
   ]
  },
  {
   "cell_type": "code",
   "execution_count": 5,
   "id": "68b256bf",
   "metadata": {},
   "outputs": [],
   "source": [
    "# Change label to alphabets\n",
    "alphabets_mapper = {0:'A',1:'B',2:'C',3:'D',4:'E',5:'F',6:'G',7:'H',8:'I',9:'J',10:'K',11:'L',12:'M',13:'N',14:'O',15:'P',16:'Q',17:'R',18:'S',19:'T',20:'U',21:'V',22:'W',23:'X',24:'Y',25:'Z'} \n",
    "dataset = df.copy()\n",
    "dataset['label'] = dataset['label'].map(alphabets_mapper)"
   ]
  },
  {
   "cell_type": "code",
   "execution_count": 6,
   "id": "f3c390c2",
   "metadata": {},
   "outputs": [
    {
     "data": {
      "image/png": "[encoded data removed]",
      "text/plain": [
       "<Figure size 720x576 with 1 Axes>"
      ]
     },
     "metadata": {
      "needs_background": "light"
     },
     "output_type": "display_data"
    }
   ],
   "source": [
    "import seaborn as sns\n",
    "\n",
    "plt.figure(figsize=(10,8))\n",
    "graph = sns.countplot(y=dataset['label'])\n",
    "plt.show()"
   ]
  },
  {
   "cell_type": "code",
   "execution_count": 7,
   "id": "186228ba",
   "metadata": {},
   "outputs": [
    {
     "data": {
      "text/plain": [
       "14    57825\n",
       "18    48419\n",
       "20    29008\n",
       "2     23409\n",
       "19    22495\n",
       "15    19341\n",
       "13    19010\n",
       "0     13869\n",
       "12    12336\n",
       "11    11586\n",
       "17    11566\n",
       "4     11440\n",
       "24    10859\n",
       "22    10784\n",
       "3     10134\n",
       "1      8668\n",
       "9      8493\n",
       "7      7218\n",
       "23     6272\n",
       "25     6076\n",
       "16     5812\n",
       "6      5762\n",
       "10     5603\n",
       "21     4182\n",
       "5      1163\n",
       "8      1120\n",
       "Name: label, dtype: int64"
      ]
     },
     "execution_count": 7,
     "metadata": {},
     "output_type": "execute_result"
    }
   ],
   "source": [
    "# free some space\n",
    "del df\n",
    "del dataset\n",
    "\n",
    "y.value_counts()"
   ]
  },
  {
   "cell_type": "code",
   "execution_count": 8,
   "id": "e8a9d382",
   "metadata": {},
   "outputs": [
    {
     "data": {
      "text/plain": [
       "count       784\n",
       "unique        1\n",
       "top       False\n",
       "freq        784\n",
       "dtype: object"
      ]
     },
     "execution_count": 8,
     "metadata": {},
     "output_type": "execute_result"
    }
   ],
   "source": [
    "X.isnull().any().describe()"
   ]
  },
  {
   "cell_type": "code",
   "execution_count": 9,
   "id": "4fd1e781",
   "metadata": {},
   "outputs": [],
   "source": [
    "X /=  255.0\n",
    "\n",
    "X = X.values.reshape(-1,28,28,1).astype('float32')"
   ]
  },
  {
   "cell_type": "code",
   "execution_count": 10,
   "id": "0f9ad2aa",
   "metadata": {},
   "outputs": [],
   "source": [
    "from tensorflow.keras.utils import to_categorical\n",
    "\n",
    "y = to_categorical(y)"
   ]
  },
  {
   "cell_type": "code",
   "execution_count": 11,
   "id": "298e13e6",
   "metadata": {},
   "outputs": [],
   "source": [
    "from sklearn.model_selection import train_test_split\n",
    "\n",
    "X_train, X_test, y_train, y_test = train_test_split(X, y, test_size = 0.15, random_state=42)"
   ]
  },
  {
   "cell_type": "code",
   "execution_count": 12,
   "id": "bd26aa59",
   "metadata": {},
   "outputs": [],
   "source": [
    "num_classes = y_test.shape[1] # 26"
   ]
  },
  {
   "cell_type": "code",
   "execution_count": 13,
   "id": "d11b09c5",
   "metadata": {},
   "outputs": [
    {
     "name": "stdout",
     "output_type": "stream",
     "text": [
      "WARNING:tensorflow:From C:\\Users\\Asif_\\anaconda3\\envs\\directML\\lib\\site-packages\\tensorflow_core\\python\\ops\\resource_variable_ops.py:1630: calling BaseResourceVariable.__init__ (from tensorflow.python.ops.resource_variable_ops) with constraint is deprecated and will be removed in a future version.\n",
      "Instructions for updating:\n",
      "If using Keras pass *_constraint arguments to layers.\n"
     ]
    }
   ],
   "source": [
    "from tensorflow.keras.models import Sequential\n",
    "from tensorflow.keras.layers import Dense, Dropout, Flatten, Conv2D, MaxPooling2D\n",
    "\n",
    "# my CNN architecture is In -> [[Conv2D->relu]*2 -> MaxPooling2D]*2 -> Dropout -> Flatten -> Dense -> Dense -> Out\n",
    "\n",
    "model = Sequential()\n",
    "\n",
    "model.add(Conv2D(64, (5, 5), input_shape=(28, 28, 1), activation='relu', data_format=\"channels_last\", padding=\"same\"))\n",
    "model.add(Conv2D(64, (5, 5), input_shape=(28, 28, 1), activation='relu', data_format=\"channels_last\", padding=\"same\"))\n",
    "model.add(MaxPooling2D(pool_size=(2, 2)))\n",
    "\n",
    "model.add(Conv2D(128, (3, 3), activation='relu', data_format=\"channels_last\", padding=\"same\"))\n",
    "model.add(Conv2D(128, (3, 3), activation='relu', data_format=\"channels_last\", padding=\"same\"))\n",
    "model.add(MaxPooling2D(pool_size=(2, 2)))\n",
    "\n",
    "model.add(Dropout(0.2))\n",
    "\n",
    "model.add(Flatten())\n",
    "model.add(Dense(128, activation='relu'))\n",
    "model.add(Dense(num_classes, activation='softmax'))"
   ]
  },
  {
   "cell_type": "code",
   "execution_count": 14,
   "id": "c2ae66e4",
   "metadata": {},
   "outputs": [
    {
     "name": "stdout",
     "output_type": "stream",
     "text": [
      "Train on 316582 samples, validate on 55868 samples\n",
      "Epoch 1/20\n",
      "316582/316582 [==============================] - 1058s 3ms/sample - loss: 0.1394 - acc: 0.9614 - val_loss: 0.0520 - val_acc: 0.9854\n",
      "Epoch 2/20\n",
      "316582/316582 [==============================] - 1058s 3ms/sample - loss: 0.0447 - acc: 0.9872 - val_loss: 0.0397 - val_acc: 0.9890\n",
      "Epoch 3/20\n",
      "316582/316582 [==============================] - 1055s 3ms/sample - loss: 0.0318 - acc: 0.9905 - val_loss: 0.0317 - val_acc: 0.9912\n",
      "Epoch 4/20\n",
      "316582/316582 [==============================] - 1053s 3ms/sample - loss: 0.0256 - acc: 0.9923 - val_loss: 0.0259 - val_acc: 0.9922\n",
      "Epoch 5/20\n",
      "316582/316582 [==============================] - 1056s 3ms/sample - loss: 0.0198 - acc: 0.9938 - val_loss: 0.0259 - val_acc: 0.9926\n",
      "Epoch 6/20\n",
      "316582/316582 [==============================] - 1058s 3ms/sample - loss: 0.0167 - acc: 0.9947 - val_loss: 0.0280 - val_acc: 0.9924\n",
      "Epoch 7/20\n",
      "316582/316582 [==============================] - 1060s 3ms/sample - loss: 0.0135 - acc: 0.9956 - val_loss: 0.0190 - val_acc: 0.9950\n",
      "Epoch 8/20\n",
      "316582/316582 [==============================] - 1060s 3ms/sample - loss: 0.0116 - acc: 0.9962 - val_loss: 0.0215 - val_acc: 0.9948\n",
      "Epoch 9/20\n",
      "316582/316582 [==============================] - 1052s 3ms/sample - loss: 0.0103 - acc: 0.9966 - val_loss: 0.0212 - val_acc: 0.9948\n",
      "Epoch 10/20\n",
      "316582/316582 [==============================] - 1048s 3ms/sample - loss: 0.0090 - acc: 0.9971 - val_loss: 0.0206 - val_acc: 0.9954\n",
      "Epoch 11/20\n",
      "316582/316582 [==============================] - 1047s 3ms/sample - loss: 0.0081 - acc: 0.9974 - val_loss: 0.0194 - val_acc: 0.9959\n",
      "Epoch 12/20\n",
      "316582/316582 [==============================] - 1048s 3ms/sample - loss: 0.0079 - acc: 0.9974 - val_loss: 0.0216 - val_acc: 0.9958\n",
      "Epoch 13/20\n",
      "316582/316582 [==============================] - 1055s 3ms/sample - loss: 0.0073 - acc: 0.9976 - val_loss: 0.0194 - val_acc: 0.9961\n",
      "Epoch 14/20\n",
      "316582/316582 [==============================] - 1058s 3ms/sample - loss: 0.0065 - acc: 0.9979 - val_loss: 0.0258 - val_acc: 0.9940\n",
      "Epoch 15/20\n",
      "316582/316582 [==============================] - 1059s 3ms/sample - loss: 0.0064 - acc: 0.9980 - val_loss: 0.0211 - val_acc: 0.9965\n",
      "Epoch 16/20\n",
      "316582/316582 [==============================] - 1053s 3ms/sample - loss: 0.0064 - acc: 0.9979 - val_loss: 0.0224 - val_acc: 0.9963\n",
      "Epoch 17/20\n",
      "316582/316582 [==============================] - 1053s 3ms/sample - loss: 0.0055 - acc: 0.9982 - val_loss: 0.0227 - val_acc: 0.9960\n",
      "Epoch 18/20\n",
      "316582/316582 [==============================] - 1056s 3ms/sample - loss: 0.0057 - acc: 0.9983 - val_loss: 0.0254 - val_acc: 0.9962\n",
      "Epoch 19/20\n",
      "316582/316582 [==============================] - 1063s 3ms/sample - loss: 0.0056 - acc: 0.9983 - val_loss: 0.0254 - val_acc: 0.9956\n",
      "Epoch 20/20\n",
      "316582/316582 [==============================] - 1062s 3ms/sample - loss: 0.0057 - acc: 0.9982 - val_loss: 0.0196 - val_acc: 0.9971\n"
     ]
    },
    {
     "data": {
      "text/plain": [
       "<tensorflow.python.keras.callbacks.History at 0x1bf77471288>"
      ]
     },
     "execution_count": 14,
     "metadata": {},
     "output_type": "execute_result"
    }
   ],
   "source": [
    "model.compile(loss='categorical_crossentropy', optimizer='adam', metrics=['accuracy'])\n",
    "model.fit(X_train, y_train, validation_data=(X_test, y_test), epochs=20, batch_size=256, verbose=1)"
   ]
  },
  {
   "cell_type": "code",
   "execution_count": 15,
   "id": "ead8b737",
   "metadata": {},
   "outputs": [],
   "source": [
    "# Final evaluation of the model\n",
    "scores = model.evaluate(X_test, y_test, verbose = 0)"
   ]
  },
  {
   "cell_type": "code",
   "execution_count": 16,
   "id": "b69dac82",
   "metadata": {},
   "outputs": [
    {
     "name": "stdout",
     "output_type": "stream",
     "text": [
      "Test loss: 0.0196%\n",
      "Test accuracy: 0.9971%\n",
      "Large CNN Error: 0.2935%\n"
     ]
    }
   ],
   "source": [
    "print('Test loss: %.4f%%' % scores[0])\n",
    "print('Test accuracy: %.4f%%' % scores[1])\n",
    "print(\"Large CNN Error: %.4f%%\" % (100-scores[1]*100))"
   ]
  },
  {
   "cell_type": "code",
   "execution_count": 17,
   "id": "7e187d87",
   "metadata": {},
   "outputs": [],
   "source": [
    "model.save('output/E_A.h5')"
   ]
  },
  {
   "cell_type": "code",
   "execution_count": null,
   "id": "706d5be0",
   "metadata": {},
   "outputs": [],
   "source": []
  }
 ],
 "metadata": {
  "kernelspec": {
   "display_name": "Python 3",
   "language": "python",
   "name": "python3"
  },
  "language_info": {
   "codemirror_mode": {
    "name": "ipython",
    "version": 3
   },
   "file_extension": ".py",
   "mimetype": "text/x-python",
   "name": "python",
   "nbconvert_exporter": "python",
   "pygments_lexer": "ipython3",
   "version": "3.7.10"
  }
 },
 "nbformat": 4,
 "nbformat_minor": 5
}
