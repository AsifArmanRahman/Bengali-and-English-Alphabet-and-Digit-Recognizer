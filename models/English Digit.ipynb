{
 "cells": [
  {
   "cell_type": "code",
   "execution_count": 1,
   "id": "divine-craft",
   "metadata": {},
   "outputs": [],
   "source": [
    "import pandas as pd\n",
    "import warnings\n",
    "warnings.filterwarnings('ignore')"
   ]
  },
  {
   "cell_type": "code",
   "execution_count": 2,
   "id": "international-jones",
   "metadata": {},
   "outputs": [],
   "source": [
    "df = pd.read_csv(\"data/English/digit/train.csv\")"
   ]
  },
  {
   "cell_type": "code",
   "execution_count": 3,
   "id": "super-locator",
   "metadata": {},
   "outputs": [
    {
     "data": {
      "text/plain": [
       "1    4684\n",
       "7    4401\n",
       "3    4351\n",
       "9    4188\n",
       "2    4177\n",
       "6    4137\n",
       "0    4132\n",
       "4    4072\n",
       "8    4063\n",
       "5    3795\n",
       "Name: label, dtype: int64"
      ]
     },
     "execution_count": 3,
     "metadata": {},
     "output_type": "execute_result"
    }
   ],
   "source": [
    "Y_train = df[\"label\"]\n",
    "\n",
    "# Drop 'label' column\n",
    "X_train = df.drop(labels = [\"label\"],axis = 1) \n",
    "\n",
    "# free some space\n",
    "del df\n",
    "\n",
    "Y_train.value_counts()"
   ]
  },
  {
   "cell_type": "code",
   "execution_count": 4,
   "id": "peaceful-shakespeare",
   "metadata": {},
   "outputs": [
    {
     "data": {
      "image/png": "[encoded data removed]",
      "text/plain": [
       "<Figure size 432x288 with 1 Axes>"
      ]
     },
     "metadata": {
      "needs_background": "light"
     },
     "output_type": "display_data"
    }
   ],
   "source": [
    "import seaborn as sns\n",
    "graph = sns.countplot(y=Y_train)"
   ]
  },
  {
   "cell_type": "code",
   "execution_count": 5,
   "id": "czech-appliance",
   "metadata": {
    "scrolled": true
   },
   "outputs": [
    {
     "data": {
      "text/plain": [
       "count       784\n",
       "unique        1\n",
       "top       False\n",
       "freq        784\n",
       "dtype: object"
      ]
     },
     "execution_count": 5,
     "metadata": {},
     "output_type": "execute_result"
    }
   ],
   "source": [
    "X_train.isnull().any().describe()"
   ]
  },
  {
   "cell_type": "code",
   "execution_count": 6,
   "id": "little-anxiety",
   "metadata": {},
   "outputs": [],
   "source": [
    "X_train /=  255.0"
   ]
  },
  {
   "cell_type": "code",
   "execution_count": 7,
   "id": "faced-whole",
   "metadata": {},
   "outputs": [],
   "source": [
    "X_train = X_train.values.reshape(-1,28,28,1).astype('float32')"
   ]
  },
  {
   "cell_type": "code",
   "execution_count": 8,
   "id": "grave-monitor",
   "metadata": {},
   "outputs": [],
   "source": [
    "from tensorflow.keras.utils import to_categorical # convert to one-hot-encoding\n",
    "\n",
    "# Encode labels to one hot vectors (ex : 2 -> [0,0,1,0,0,0,0,0,0,0])\n",
    "Y_train = to_categorical(Y_train, num_classes = 10)"
   ]
  },
  {
   "cell_type": "code",
   "execution_count": 9,
   "id": "contained-asset",
   "metadata": {},
   "outputs": [],
   "source": [
    "from sklearn.model_selection import train_test_split\n",
    "\n",
    "X_train, X_val, Y_train, Y_val = train_test_split(X_train, Y_train, test_size = 0.15, random_state=42)"
   ]
  },
  {
   "cell_type": "code",
   "execution_count": 10,
   "id": "exciting-console",
   "metadata": {},
   "outputs": [
    {
     "name": "stdout",
     "output_type": "stream",
     "text": [
      "WARNING:tensorflow:From C:\\Users\\Asif_\\anaconda3\\envs\\directML\\lib\\site-packages\\tensorflow_core\\python\\ops\\resource_variable_ops.py:1630: calling BaseResourceVariable.__init__ (from tensorflow.python.ops.resource_variable_ops) with constraint is deprecated and will be removed in a future version.\n",
      "Instructions for updating:\n",
      "If using Keras pass *_constraint arguments to layers.\n"
     ]
    }
   ],
   "source": [
    "from tensorflow.keras.models import Sequential\n",
    "from tensorflow.keras.layers import Dense, Dropout, Flatten, Conv2D, MaxPool2D\n",
    "\n",
    "\n",
    "# my CNN architecture is In -> [[Conv2D->relu]*2 -> MaxPool2D -> Dropout]*2 -> Flatten -> Dense -> Dropout -> Dense -> Out\n",
    "\n",
    "model = Sequential()\n",
    "\n",
    "model.add(Conv2D(filters = 32, kernel_size = (5,5),padding = 'Same', activation ='relu', input_shape = (28,28,1)))\n",
    "model.add(Conv2D(filters = 32, kernel_size = (5,5),padding = 'Same', activation ='relu'))\n",
    "model.add(MaxPool2D(pool_size=(2,2)))\n",
    "model.add(Dropout(0.25))\n",
    "\n",
    "model.add(Conv2D(filters = 64, kernel_size = (3,3),padding = 'Same', activation ='relu'))\n",
    "model.add(Conv2D(filters = 64, kernel_size = (3,3),padding = 'Same', activation ='relu'))\n",
    "model.add(MaxPool2D(pool_size=(2,2), strides=(2,2)))\n",
    "model.add(Dropout(0.25))\n",
    "\n",
    "model.add(Flatten())\n",
    "model.add(Dense(256, activation = \"relu\"))\n",
    "model.add(Dropout(0.5))\n",
    "model.add(Dense(10, activation = \"softmax\"))"
   ]
  },
  {
   "cell_type": "code",
   "execution_count": 11,
   "id": "adopted-permit",
   "metadata": {},
   "outputs": [],
   "source": [
    "from tensorflow.keras.optimizers import RMSprop\n",
    "\n",
    "optimizer = RMSprop(lr=0.001, rho=0.9, epsilon=1e-08, decay=0.0)"
   ]
  },
  {
   "cell_type": "code",
   "execution_count": 12,
   "id": "registered-sally",
   "metadata": {},
   "outputs": [],
   "source": [
    "model.compile(optimizer = optimizer , loss = \"categorical_crossentropy\", metrics=[\"accuracy\"])"
   ]
  },
  {
   "cell_type": "code",
   "execution_count": 13,
   "id": "round-receptor",
   "metadata": {},
   "outputs": [],
   "source": [
    "from tensorflow.keras.callbacks import ReduceLROnPlateau\n",
    "\n",
    "learning_rate_reduction = ReduceLROnPlateau(monitor='val_acc', patience=3, verbose=1, factor=0.5, min_lr=0.00001)"
   ]
  },
  {
   "cell_type": "code",
   "execution_count": 14,
   "id": "israeli-scanning",
   "metadata": {},
   "outputs": [],
   "source": [
    "from tensorflow.keras.preprocessing.image import ImageDataGenerator\n",
    "\n",
    "# data augmentation\n",
    "\n",
    "datagen = ImageDataGenerator(\n",
    "  \n",
    "        featurewise_center=False,                      # set input mean to 0 over the dataset\n",
    "        samplewise_center=False,                       # set each sample mean to 0\n",
    "        featurewise_std_normalization=False,           # divide inputs by std of the dataset\n",
    "        samplewise_std_normalization=False,            # divide each input by its std\n",
    "        zca_whitening=False,                           # apply ZCA whitening\n",
    "        rotation_range=10,                             # randomly rotate images in the range (degrees, 0 to 180)\n",
    "        zoom_range = 0.1,                              # Randomly zoom image \n",
    "        width_shift_range=0.1,                         # randomly shift images horizontally (fraction of total width)\n",
    "        height_shift_range=0.1,                        # randomly shift images vertically (fraction of total height)\n",
    "        horizontal_flip=False,                         # randomly flip images\n",
    "        vertical_flip=False)                           # randomly flip images\n",
    "\n",
    "\n",
    "datagen.fit(X_train)"
   ]
  },
  {
   "cell_type": "code",
   "execution_count": 15,
   "id": "lined-stability",
   "metadata": {},
   "outputs": [
    {
     "name": "stdout",
     "output_type": "stream",
     "text": [
      "Epoch 1/30\n",
      "414/415 [============================>.] - ETA: 0s - loss: 0.4328 - acc: 0.8608Epoch 1/30\n",
      "6300/415 [=======================================================================================================================================================================================================================================================================================================================================================================================================================================================================] - 3s 483us/sample - loss: 0.0938 - acc: 0.9763\n",
      "415/415 [==============================] - 57s 137ms/step - loss: 0.4325 - acc: 0.8609 - val_loss: 0.0769 - val_acc: 0.9763\n",
      "Epoch 2/30\n",
      "414/415 [============================>.] - ETA: 0s - loss: 0.1337 - acc: 0.9599Epoch 1/30\n",
      "6300/415 [=======================================================================================================================================================================================================================================================================================================================================================================================================================================================================] - 3s 444us/sample - loss: 0.0757 - acc: 0.9856\n",
      "415/415 [==============================] - 58s 140ms/step - loss: 0.1341 - acc: 0.9598 - val_loss: 0.0429 - val_acc: 0.9856\n",
      "Epoch 3/30\n",
      "414/415 [============================>.] - ETA: 0s - loss: 0.0944 - acc: 0.9722Epoch 1/30\n",
      "6300/415 [=======================================================================================================================================================================================================================================================================================================================================================================================================================================================================] - 3s 444us/sample - loss: 0.0959 - acc: 0.9905\n",
      "415/415 [==============================] - 58s 140ms/step - loss: 0.0944 - acc: 0.9722 - val_loss: 0.0345 - val_acc: 0.9905\n",
      "Epoch 4/30\n",
      "414/415 [============================>.] - ETA: 0s - loss: 0.0788 - acc: 0.9772Epoch 1/30\n",
      "6300/415 [=======================================================================================================================================================================================================================================================================================================================================================================================================================================================================] - 3s 446us/sample - loss: 0.1030 - acc: 0.9900\n",
      "415/415 [==============================] - 58s 140ms/step - loss: 0.0786 - acc: 0.9772 - val_loss: 0.0347 - val_acc: 0.9900\n",
      "Epoch 5/30\n",
      "414/415 [============================>.] - ETA: 0s - loss: 0.0696 - acc: 0.9797Epoch 1/30\n",
      "6300/415 [=======================================================================================================================================================================================================================================================================================================================================================================================================================================================================] - 3s 447us/sample - loss: 0.0962 - acc: 0.9903\n",
      "415/415 [==============================] - 58s 140ms/step - loss: 0.0700 - acc: 0.9796 - val_loss: 0.0324 - val_acc: 0.9903\n",
      "Epoch 6/30\n",
      "414/415 [============================>.] - ETA: 0s - loss: 0.0657 - acc: 0.9809Epoch 1/30\n",
      "6300/415 [=======================================================================================================================================================================================================================================================================================================================================================================================================================================================================] - 3s 447us/sample - loss: 0.0747 - acc: 0.9902\n",
      "\n",
      "Epoch 00006: ReduceLROnPlateau reducing learning rate to 0.0005000000237487257.\n",
      "415/415 [==============================] - 58s 140ms/step - loss: 0.0659 - acc: 0.9809 - val_loss: 0.0312 - val_acc: 0.9902\n",
      "Epoch 7/30\n",
      "414/415 [============================>.] - ETA: 0s - loss: 0.0491 - acc: 0.9858Epoch 1/30\n",
      "6300/415 [=======================================================================================================================================================================================================================================================================================================================================================================================================================================================================] - 3s 444us/sample - loss: 0.0794 - acc: 0.9922\n",
      "415/415 [==============================] - 58s 140ms/step - loss: 0.0490 - acc: 0.9858 - val_loss: 0.0260 - val_acc: 0.9922\n",
      "Epoch 8/30\n",
      "414/415 [============================>.] - ETA: 0s - loss: 0.0460 - acc: 0.9866Epoch 1/30\n",
      "6300/415 [=======================================================================================================================================================================================================================================================================================================================================================================================================================================================================] - 3s 448us/sample - loss: 0.0167 - acc: 0.9933\n",
      "415/415 [==============================] - 58s 140ms/step - loss: 0.0459 - acc: 0.9866 - val_loss: 0.0231 - val_acc: 0.9933\n",
      "Epoch 9/30\n",
      "414/415 [============================>.] - ETA: 0s - loss: 0.0457 - acc: 0.9864Epoch 1/30\n",
      "6300/415 [=======================================================================================================================================================================================================================================================================================================================================================================================================================================================================] - 3s 445us/sample - loss: 0.0796 - acc: 0.9914\n",
      "415/415 [==============================] - 58s 140ms/step - loss: 0.0457 - acc: 0.9864 - val_loss: 0.0293 - val_acc: 0.9914\n",
      "Epoch 10/30\n",
      "414/415 [============================>.] - ETA: 0s - loss: 0.0454 - acc: 0.9868Epoch 1/30\n",
      "6300/415 [=======================================================================================================================================================================================================================================================================================================================================================================================================================================================================] - 3s 446us/sample - loss: 0.1037 - acc: 0.9921\n",
      "415/415 [==============================] - 58s 140ms/step - loss: 0.0454 - acc: 0.9868 - val_loss: 0.0288 - val_acc: 0.9921\n",
      "Epoch 11/30\n",
      "414/415 [============================>.] - ETA: 0s - loss: 0.0450 - acc: 0.9873Epoch 1/30\n",
      "6300/415 [=======================================================================================================================================================================================================================================================================================================================================================================================================================================================================] - 3s 446us/sample - loss: 0.0189 - acc: 0.9932\n",
      "\n",
      "Epoch 00011: ReduceLROnPlateau reducing learning rate to 0.0002500000118743628.\n",
      "415/415 [==============================] - 58s 140ms/step - loss: 0.0450 - acc: 0.9873 - val_loss: 0.0245 - val_acc: 0.9932\n"
     ]
    },
    {
     "name": "stdout",
     "output_type": "stream",
     "text": [
      "Epoch 12/30\n",
      "414/415 [============================>.] - ETA: 0s - loss: 0.0372 - acc: 0.9892Epoch 1/30\n",
      "6300/415 [=======================================================================================================================================================================================================================================================================================================================================================================================================================================================================] - 3s 449us/sample - loss: 0.0280 - acc: 0.9927\n",
      "415/415 [==============================] - 58s 141ms/step - loss: 0.0371 - acc: 0.9892 - val_loss: 0.0241 - val_acc: 0.9927\n",
      "Epoch 13/30\n",
      "414/415 [============================>.] - ETA: 0s - loss: 0.0345 - acc: 0.9902Epoch 1/30\n",
      "6300/415 [=======================================================================================================================================================================================================================================================================================================================================================================================================================================================================] - 3s 448us/sample - loss: 0.0705 - acc: 0.9946\n",
      "415/415 [==============================] - 58s 141ms/step - loss: 0.0344 - acc: 0.9902 - val_loss: 0.0206 - val_acc: 0.9946\n",
      "Epoch 14/30\n",
      "414/415 [============================>.] - ETA: 0s - loss: 0.0359 - acc: 0.9894Epoch 1/30\n",
      "6300/415 [=======================================================================================================================================================================================================================================================================================================================================================================================================================================================================] - 3s 448us/sample - loss: 0.0319 - acc: 0.9943\n",
      "415/415 [==============================] - 58s 141ms/step - loss: 0.0360 - acc: 0.9894 - val_loss: 0.0209 - val_acc: 0.9943\n",
      "Epoch 15/30\n",
      "414/415 [============================>.] - ETA: 0s - loss: 0.0333 - acc: 0.9903Epoch 1/30\n",
      "6300/415 [=======================================================================================================================================================================================================================================================================================================================================================================================================================================================================] - 3s 446us/sample - loss: 0.0782 - acc: 0.9932\n",
      "415/415 [==============================] - 58s 141ms/step - loss: 0.0333 - acc: 0.9903 - val_loss: 0.0240 - val_acc: 0.9932\n",
      "Epoch 16/30\n",
      "414/415 [============================>.] - ETA: 0s - loss: 0.0365 - acc: 0.9898Epoch 1/30\n",
      "6300/415 [=======================================================================================================================================================================================================================================================================================================================================================================================================================================================================] - 3s 447us/sample - loss: 0.0324 - acc: 0.9938\n",
      "\n",
      "Epoch 00016: ReduceLROnPlateau reducing learning rate to 0.0001250000059371814.\n",
      "415/415 [==============================] - 58s 140ms/step - loss: 0.0365 - acc: 0.9898 - val_loss: 0.0195 - val_acc: 0.9938\n",
      "Epoch 17/30\n",
      "414/415 [============================>.] - ETA: 0s - loss: 0.0302 - acc: 0.9911Epoch 1/30\n",
      "6300/415 [=======================================================================================================================================================================================================================================================================================================================================================================================================================================================================] - 3s 446us/sample - loss: 0.0520 - acc: 0.9944\n",
      "415/415 [==============================] - 58s 140ms/step - loss: 0.0301 - acc: 0.9911 - val_loss: 0.0211 - val_acc: 0.9944\n",
      "Epoch 18/30\n",
      "414/415 [============================>.] - ETA: 0s - loss: 0.0296 - acc: 0.9917Epoch 1/30\n",
      "6300/415 [=======================================================================================================================================================================================================================================================================================================================================================================================================================================================================] - 3s 447us/sample - loss: 0.0541 - acc: 0.9944\n",
      "415/415 [==============================] - 58s 141ms/step - loss: 0.0299 - acc: 0.9916 - val_loss: 0.0193 - val_acc: 0.9944\n",
      "Epoch 19/30\n",
      "414/415 [============================>.] - ETA: 0s - loss: 0.0300 - acc: 0.9909Epoch 1/30\n",
      "6300/415 [=======================================================================================================================================================================================================================================================================================================================================================================================================================================================================] - 3s 445us/sample - loss: 0.0671 - acc: 0.9937\n",
      "\n",
      "Epoch 00019: ReduceLROnPlateau reducing learning rate to 6.25000029685907e-05.\n",
      "415/415 [==============================] - 58s 141ms/step - loss: 0.0300 - acc: 0.9909 - val_loss: 0.0219 - val_acc: 0.9937\n",
      "Epoch 20/30\n",
      "414/415 [============================>.] - ETA: 0s - loss: 0.0299 - acc: 0.9914Epoch 1/30\n",
      "6300/415 [=======================================================================================================================================================================================================================================================================================================================================================================================================================================================================] - 3s 451us/sample - loss: 0.0568 - acc: 0.9941\n",
      "415/415 [==============================] - 58s 140ms/step - loss: 0.0300 - acc: 0.9914 - val_loss: 0.0204 - val_acc: 0.9941\n",
      "Epoch 21/30\n",
      "414/415 [============================>.] - ETA: 0s - loss: 0.0271 - acc: 0.9923Epoch 1/30\n",
      "6300/415 [=======================================================================================================================================================================================================================================================================================================================================================================================================================================================================] - 3s 452us/sample - loss: 0.0460 - acc: 0.9946\n",
      "415/415 [==============================] - 58s 141ms/step - loss: 0.0271 - acc: 0.9923 - val_loss: 0.0198 - val_acc: 0.9946\n",
      "Epoch 22/30\n",
      "414/415 [============================>.] - ETA: 0s - loss: 0.0290 - acc: 0.9917Epoch 1/30\n",
      "6300/415 [=======================================================================================================================================================================================================================================================================================================================================================================================================================================================================] - 3s 451us/sample - loss: 0.0758 - acc: 0.9944\n",
      "\n",
      "Epoch 00022: ReduceLROnPlateau reducing learning rate to 3.125000148429535e-05.\n",
      "415/415 [==============================] - 58s 141ms/step - loss: 0.0290 - acc: 0.9917 - val_loss: 0.0210 - val_acc: 0.9944\n"
     ]
    },
    {
     "name": "stdout",
     "output_type": "stream",
     "text": [
      "Epoch 23/30\n",
      "414/415 [============================>.] - ETA: 0s - loss: 0.0262 - acc: 0.9920Epoch 1/30\n",
      "6300/415 [=======================================================================================================================================================================================================================================================================================================================================================================================================================================================================] - 3s 451us/sample - loss: 0.0570 - acc: 0.9948\n",
      "415/415 [==============================] - 58s 141ms/step - loss: 0.0263 - acc: 0.9920 - val_loss: 0.0195 - val_acc: 0.9948\n",
      "Epoch 24/30\n",
      "414/415 [============================>.] - ETA: 0s - loss: 0.0253 - acc: 0.9925Epoch 1/30\n",
      "6300/415 [=======================================================================================================================================================================================================================================================================================================================================================================================================================================================================] - 3s 453us/sample - loss: 0.0456 - acc: 0.9949\n",
      "415/415 [==============================] - 59s 141ms/step - loss: 0.0253 - acc: 0.9925 - val_loss: 0.0188 - val_acc: 0.9949\n",
      "Epoch 25/30\n",
      "414/415 [============================>.] - ETA: 0s - loss: 0.0258 - acc: 0.9924Epoch 1/30\n",
      "6300/415 [=======================================================================================================================================================================================================================================================================================================================================================================================================================================================================] - 3s 455us/sample - loss: 0.0736 - acc: 0.9943\n",
      "415/415 [==============================] - 59s 141ms/step - loss: 0.0257 - acc: 0.9924 - val_loss: 0.0208 - val_acc: 0.9943\n",
      "Epoch 26/30\n",
      "414/415 [============================>.] - ETA: 0s - loss: 0.0258 - acc: 0.9927Epoch 1/30\n",
      "6300/415 [=======================================================================================================================================================================================================================================================================================================================================================================================================================================================================] - 3s 451us/sample - loss: 0.0507 - acc: 0.9941\n",
      "415/415 [==============================] - 59s 141ms/step - loss: 0.0258 - acc: 0.9927 - val_loss: 0.0192 - val_acc: 0.9941\n",
      "Epoch 27/30\n",
      "414/415 [============================>.] - ETA: 0s - loss: 0.0271 - acc: 0.9922Epoch 1/30\n",
      "6300/415 [=======================================================================================================================================================================================================================================================================================================================================================================================================================================================================] - 3s 454us/sample - loss: 0.0458 - acc: 0.9944\n",
      "\n",
      "Epoch 00027: ReduceLROnPlateau reducing learning rate to 1.5625000742147677e-05.\n",
      "415/415 [==============================] - 59s 141ms/step - loss: 0.0271 - acc: 0.9922 - val_loss: 0.0185 - val_acc: 0.9944\n",
      "Epoch 28/30\n",
      "414/415 [============================>.] - ETA: 0s - loss: 0.0267 - acc: 0.9922Epoch 1/30\n",
      "6300/415 [=======================================================================================================================================================================================================================================================================================================================================================================================================================================================================] - 3s 454us/sample - loss: 0.0599 - acc: 0.9946\n",
      "415/415 [==============================] - 59s 141ms/step - loss: 0.0266 - acc: 0.9923 - val_loss: 0.0192 - val_acc: 0.9946\n",
      "Epoch 29/30\n",
      "414/415 [============================>.] - ETA: 0s - loss: 0.0262 - acc: 0.9921Epoch 1/30\n",
      "6300/415 [=======================================================================================================================================================================================================================================================================================================================================================================================================================================================================] - 3s 455us/sample - loss: 0.0521 - acc: 0.9948\n",
      "415/415 [==============================] - 59s 142ms/step - loss: 0.0263 - acc: 0.9921 - val_loss: 0.0191 - val_acc: 0.9948\n",
      "Epoch 30/30\n",
      "414/415 [============================>.] - ETA: 0s - loss: 0.0256 - acc: 0.9925Epoch 1/30\n",
      "6300/415 [=======================================================================================================================================================================================================================================================================================================================================================================================================================================================================] - 3s 453us/sample - loss: 0.0506 - acc: 0.9941\n",
      "\n",
      "Epoch 00030: ReduceLROnPlateau reducing learning rate to 1e-05.\n",
      "415/415 [==============================] - 59s 142ms/step - loss: 0.0258 - acc: 0.9925 - val_loss: 0.0192 - val_acc: 0.9941\n"
     ]
    }
   ],
   "source": [
    "# Fit the model\n",
    "history = model.fit(datagen.flow(X_train,Y_train, batch_size= 86), epochs = 30, validation_data = (X_val,Y_val),\n",
    "            verbose = 1, steps_per_epoch=X_train.shape[0] // 86, callbacks=[learning_rate_reduction])"
   ]
  },
  {
   "cell_type": "code",
   "execution_count": 16,
   "id": "saved-tolerance",
   "metadata": {},
   "outputs": [
    {
     "name": "stdout",
     "output_type": "stream",
     "text": [
      "Test loss: 0.02%\n",
      "Test accuracy: 0.9941%\n",
      "Large CNN Error: 0.59%\n"
     ]
    }
   ],
   "source": [
    "scores = model.evaluate(X_val, Y_val, verbose=0)                                                     \n",
    "\n",
    "print('Test loss: %.2f%%' % scores[0])\n",
    "print('Test accuracy: %.4f%%' % scores[1])\n",
    "print(\"Large CNN Error: %.2f%%\" % (100-scores[1]*100))"
   ]
  },
  {
   "cell_type": "code",
   "execution_count": 17,
   "id": "bizarre-engagement",
   "metadata": {},
   "outputs": [],
   "source": [
    "model.save('output/E_D_9941.h5')"
   ]
  },
  {
   "cell_type": "code",
   "execution_count": null,
   "id": "united-going",
   "metadata": {},
   "outputs": [],
   "source": []
  }
 ],
 "metadata": {
  "kernelspec": {
   "display_name": "Python 3",
   "language": "python",
   "name": "python3"
  },
  "language_info": {
   "codemirror_mode": {
    "name": "ipython",
    "version": 3
   },
   "file_extension": ".py",
   "mimetype": "text/x-python",
   "name": "python",
   "nbconvert_exporter": "python",
   "pygments_lexer": "ipython3",
   "version": "3.7.10"
  }
 },
 "nbformat": 4,
 "nbformat_minor": 5
}
