{
 "cells": [
  {
   "cell_type": "code",
   "execution_count": 1,
   "id": "796b8195",
   "metadata": {},
   "outputs": [],
   "source": [
    "import pandas as pd\n",
    "import numpy as np"
   ]
  },
  {
   "cell_type": "code",
   "execution_count": 2,
   "id": "7715ed83",
   "metadata": {},
   "outputs": [],
   "source": [
    "df1 = pd.read_csv('data\\\\Bengali\\\\alphabet\\\\femaleCharacters.csv')\n",
    "df2 = pd.read_csv('data\\\\Bengali\\\\alphabet\\\\malechar1.csv')\n",
    "df3 = pd.read_csv('data\\\\Bengali\\\\alphabet\\\\malechar2.csv')"
   ]
  },
  {
   "cell_type": "code",
   "execution_count": 3,
   "id": "90b96d4f",
   "metadata": {},
   "outputs": [],
   "source": [
    "frames = [df1, df2, df3]\n",
    "\n",
    "df = pd.concat(frames)"
   ]
  },
  {
   "cell_type": "code",
   "execution_count": 4,
   "id": "01fee6ad",
   "metadata": {},
   "outputs": [],
   "source": [
    "# Separating Data and Label\n",
    "y = df[\"label\"]\n",
    "X = df.drop(labels = [\"label\"],axis = 1)"
   ]
  },
  {
   "cell_type": "code",
   "execution_count": 5,
   "id": "e01f58e6",
   "metadata": {},
   "outputs": [],
   "source": [
    "# Change label to alphabets\n",
    "alphabets_mapper = {10: 'অ', 11: 'আ', 12:'ই', 13: 'ঈ', 14: 'উ', 15: 'ঊ', 16: 'ঋ', 17: 'এ', 18: 'ঐ', 19: 'ও', 20: 'ঔ',\n",
    "                    21: 'ক', 22: 'খ', 23: 'গ', 24: 'ঘ', 25: 'ঙ', 26: 'চ', 27: 'ছ', 28: 'জ', 29: 'ঝ', 30: 'ঞ', 31: 'ট',\n",
    "                    32: 'ঠ', 33: 'ড', 34: 'ঢ', 35: 'ণ', 36: 'ত', 37: 'থ', 38: 'দ', 39: 'ধ', 40: 'ন', 41: 'প', 42: 'ফ',\n",
    "                    43: 'ব', 44: 'ভ', 45: 'ম', 46: 'য', 47: 'র', 48: 'ল', 49: 'শ', 50: 'ষ', 51: 'স', 52: 'হ', 53: 'ড়',\n",
    "                    54: 'ঢ়', 55: 'য়', 56: 'ৎ', 57: 'ং', 58: 'ঃ', 59: ' ঁ'}\n",
    "dataset = df.copy()\n",
    "dataset['label'] = dataset['label'].map(alphabets_mapper)"
   ]
  },
  {
   "cell_type": "code",
   "execution_count": 6,
   "id": "c1843631",
   "metadata": {},
   "outputs": [],
   "source": [
    "import matplotlib.pyplot as plt\n",
    "import matplotlib.font_manager as fm\n",
    "\n",
    "fe = fm.FontEntry(\n",
    "    fname='models\\data\\Bengali\\font',\n",
    "    name='kalpurush')\n",
    "\n",
    "fm.fontManager.ttflist.insert(0, fe) # or append is fine\n",
    "plt.rcParams['font.family'] = fe.name # = 'your custom ttf font name'\n",
    "plt.rcParams['ytick.labelsize'] = 15"
   ]
  },
  {
   "cell_type": "code",
   "execution_count": 7,
   "id": "06c4a893",
   "metadata": {},
   "outputs": [
    {
     "data": {
      "image/png": "[encoded data removed]",
      "text/plain": [
       "<Figure size 1440x720 with 1 Axes>"
      ]
     },
     "metadata": {
      "needs_background": "light"
     },
     "output_type": "display_data"
    }
   ],
   "source": [
    "import seaborn as sns\n",
    "\n",
    "plt.figure(figsize=(20,10))\n",
    "graph = sns.countplot(x=dataset['label'])\n",
    "\n",
    "plt.show()"
   ]
  },
  {
   "cell_type": "code",
   "execution_count": 8,
   "id": "189c4619",
   "metadata": {},
   "outputs": [],
   "source": [
    "# Normalize the data\n",
    "X /=  255.0\n",
    "\n",
    "# Reshape the array into 28 x 28 pixel\n",
    "X = X.values.reshape(-1,28,28,1).astype('float32')"
   ]
  },
  {
   "cell_type": "code",
   "execution_count": 9,
   "id": "b92f0a16",
   "metadata": {},
   "outputs": [],
   "source": [
    "from tensorflow.keras.utils import to_categorical\n",
    "\n",
    "y = to_categorical(y)"
   ]
  },
  {
   "cell_type": "code",
   "execution_count": 10,
   "id": "178b5ef6",
   "metadata": {},
   "outputs": [],
   "source": [
    "from sklearn.model_selection import train_test_split\n",
    "\n",
    "X_train, X_test, y_train, y_test = train_test_split(X, y, test_size = 0.15, random_state=42)"
   ]
  },
  {
   "cell_type": "code",
   "execution_count": 11,
   "id": "146874d5",
   "metadata": {},
   "outputs": [
    {
     "name": "stdout",
     "output_type": "stream",
     "text": [
      "WARNING:tensorflow:From C:\\Users\\Asif_\\anaconda3\\envs\\directML\\lib\\site-packages\\tensorflow_core\\python\\ops\\resource_variable_ops.py:1630: calling BaseResourceVariable.__init__ (from tensorflow.python.ops.resource_variable_ops) with constraint is deprecated and will be removed in a future version.\n",
      "Instructions for updating:\n",
      "If using Keras pass *_constraint arguments to layers.\n"
     ]
    }
   ],
   "source": [
    "from tensorflow.keras.models import Sequential\n",
    "from tensorflow.keras.layers import Dense, Dropout, Flatten, Conv2D, MaxPooling2D\n",
    "\n",
    "\n",
    "num_classes = y_test.shape[1] # 26\n",
    "\n",
    "\n",
    "# my CNN architecture is In -> [[Conv2D->relu]*2 -> MaxPooling2D]*2 -> Dropout -> Flatten -> Dense -> Dense -> Out\n",
    "\n",
    "model = Sequential()\n",
    "\n",
    "model.add(Conv2D(64, (5, 5), input_shape=(28, 28, 1), activation='relu', data_format=\"channels_last\", padding=\"same\"))\n",
    "model.add(Conv2D(64, (5, 5), input_shape=(28, 28, 1), activation='relu', data_format=\"channels_last\", padding=\"same\"))\n",
    "model.add(MaxPooling2D(pool_size=(2, 2)))\n",
    "\n",
    "model.add(Conv2D(128, (3, 3), activation='relu', data_format=\"channels_last\", padding=\"same\"))\n",
    "model.add(Conv2D(128, (3, 3), activation='relu', data_format=\"channels_last\", padding=\"same\"))\n",
    "model.add(MaxPooling2D(pool_size=(2, 2)))\n",
    "\n",
    "model.add(Dropout(0.2))\n",
    "\n",
    "model.add(Flatten())\n",
    "model.add(Dense(128, activation='relu'))\n",
    "model.add(Dense(num_classes, activation='softmax'))"
   ]
  },
  {
   "cell_type": "code",
   "execution_count": 12,
   "id": "a7beb776",
   "metadata": {},
   "outputs": [],
   "source": [
    "model.compile(loss = 'categorical_crossentropy', metrics = ['accuracy'], optimizer = 'adam')"
   ]
  },
  {
   "cell_type": "code",
   "execution_count": 13,
   "id": "40a7d9ce",
   "metadata": {},
   "outputs": [
    {
     "name": "stdout",
     "output_type": "stream",
     "text": [
      "Train on 130288 samples, validate on 22993 samples\n",
      "Epoch 1/20\n",
      "130288/130288 [==============================] - 419s 3ms/sample - loss: 0.7549 - acc: 0.7957 - val_loss: 0.3258 - val_acc: 0.9114\n",
      "Epoch 2/20\n",
      "130288/130288 [==============================] - 427s 3ms/sample - loss: 0.2495 - acc: 0.9311 - val_loss: 0.2263 - val_acc: 0.9400\n",
      "Epoch 3/20\n",
      "130288/130288 [==============================] - 429s 3ms/sample - loss: 0.1739 - acc: 0.9519 - val_loss: 0.1966 - val_acc: 0.9477\n",
      "Epoch 4/20\n",
      "130288/130288 [==============================] - 429s 3ms/sample - loss: 0.1323 - acc: 0.9625 - val_loss: 0.1930 - val_acc: 0.9512\n",
      "Epoch 5/20\n",
      "130288/130288 [==============================] - 427s 3ms/sample - loss: 0.1045 - acc: 0.9696 - val_loss: 0.1847 - val_acc: 0.9529\n",
      "Epoch 6/20\n",
      "130288/130288 [==============================] - 428s 3ms/sample - loss: 0.0861 - acc: 0.9739 - val_loss: 0.1926 - val_acc: 0.9524\n",
      "Epoch 7/20\n",
      "130288/130288 [==============================] - 429s 3ms/sample - loss: 0.0737 - acc: 0.9769 - val_loss: 0.2053 - val_acc: 0.9503\n",
      "Epoch 8/20\n",
      "130288/130288 [==============================] - 428s 3ms/sample - loss: 0.0628 - acc: 0.9805 - val_loss: 0.2088 - val_acc: 0.9553\n",
      "Epoch 9/20\n",
      "130288/130288 [==============================] - 428s 3ms/sample - loss: 0.0532 - acc: 0.9825 - val_loss: 0.2006 - val_acc: 0.9558\n",
      "Epoch 10/20\n",
      "130288/130288 [==============================] - 428s 3ms/sample - loss: 0.0484 - acc: 0.9844 - val_loss: 0.2130 - val_acc: 0.9577\n",
      "Epoch 11/20\n",
      "130288/130288 [==============================] - 424s 3ms/sample - loss: 0.0422 - acc: 0.9862 - val_loss: 0.2212 - val_acc: 0.9561\n",
      "Epoch 12/20\n",
      "130288/130288 [==============================] - 420s 3ms/sample - loss: 0.0398 - acc: 0.9869 - val_loss: 0.2232 - val_acc: 0.9541\n",
      "Epoch 13/20\n",
      "130288/130288 [==============================] - 421s 3ms/sample - loss: 0.0350 - acc: 0.9880 - val_loss: 0.2339 - val_acc: 0.9567\n",
      "Epoch 14/20\n",
      "130288/130288 [==============================] - 426s 3ms/sample - loss: 0.0337 - acc: 0.9888 - val_loss: 0.2383 - val_acc: 0.9561\n",
      "Epoch 15/20\n",
      "130288/130288 [==============================] - 421s 3ms/sample - loss: 0.0304 - acc: 0.9897 - val_loss: 0.2534 - val_acc: 0.9567\n",
      "Epoch 16/20\n",
      "130288/130288 [==============================] - 418s 3ms/sample - loss: 0.0295 - acc: 0.9897 - val_loss: 0.2493 - val_acc: 0.9546\n",
      "Epoch 17/20\n",
      "130288/130288 [==============================] - 420s 3ms/sample - loss: 0.0285 - acc: 0.9903 - val_loss: 0.2402 - val_acc: 0.9552\n",
      "Epoch 18/20\n",
      "130288/130288 [==============================] - 421s 3ms/sample - loss: 0.0244 - acc: 0.9917 - val_loss: 0.2542 - val_acc: 0.9562\n",
      "Epoch 19/20\n",
      "130288/130288 [==============================] - 419s 3ms/sample - loss: 0.0242 - acc: 0.9921 - val_loss: 0.2580 - val_acc: 0.9572\n",
      "Epoch 20/20\n",
      "130288/130288 [==============================] - 421s 3ms/sample - loss: 0.0226 - acc: 0.9923 - val_loss: 0.2766 - val_acc: 0.9567\n"
     ]
    }
   ],
   "source": [
    "history = model.fit(X_train, y_train, validation_data=(X_test, y_test), epochs=20, batch_size=256, verbose=1)"
   ]
  },
  {
   "cell_type": "code",
   "execution_count": 14,
   "id": "0a85db7c",
   "metadata": {},
   "outputs": [
    {
     "name": "stdout",
     "output_type": "stream",
     "text": [
      "Test loss: 0.28%\n",
      "Test accuracy: 0.9567%\n",
      "Large CNN Error: 4.33%\n"
     ]
    }
   ],
   "source": [
    "scores = model.evaluate(X_test, y_test, verbose=0)                                                     \n",
    "\n",
    "print('Test loss: %.2f%%' % scores[0])\n",
    "print('Test accuracy: %.4f%%' % scores[1])\n",
    "print(\"Large CNN Error: %.2f%%\" % (100-scores[1]*100))"
   ]
  },
  {
   "cell_type": "code",
   "execution_count": 15,
   "id": "9dd75d34",
   "metadata": {},
   "outputs": [],
   "source": [
    "model.save('output/B_A.h5')"
   ]
  },
  {
   "cell_type": "code",
   "execution_count": null,
   "id": "42caeb14",
   "metadata": {},
   "outputs": [],
   "source": []
  }
 ],
 "metadata": {
  "kernelspec": {
   "display_name": "Python 3",
   "language": "python",
   "name": "python3"
  },
  "language_info": {
   "codemirror_mode": {
    "name": "ipython",
    "version": 3
   },
   "file_extension": ".py",
   "mimetype": "text/x-python",
   "name": "python",
   "nbconvert_exporter": "python",
   "pygments_lexer": "ipython3",
   "version": "3.7.10"
  }
 },
 "nbformat": 4,
 "nbformat_minor": 5
}
