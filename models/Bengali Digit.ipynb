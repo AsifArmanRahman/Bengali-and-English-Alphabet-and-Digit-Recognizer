{
 "cells": [
  {
   "cell_type": "code",
   "execution_count": 1,
   "id": "local-messenger",
   "metadata": {},
   "outputs": [],
   "source": [
    "import os\n",
    "import glob\n",
    "\n",
    "data_dir = os.path.join('data/Bengali','digit')\n",
    "\n",
    "paths_train_a = glob.glob(os.path.join(data_dir, 'training-a', '*.png'))\n",
    "paths_train_b = glob.glob(os.path.join(data_dir, 'training-b', '*.png'))\n",
    "paths_train_e = glob.glob(os.path.join(data_dir, 'training-e', '*.png'))\n",
    "paths_train_c = glob.glob(os.path.join(data_dir, 'training-c', '*.png'))\n",
    "paths_train_d = glob.glob(os.path.join(data_dir, 'training-d', '*.png'))\n",
    "paths_train_all = paths_train_a + paths_train_b + paths_train_c + paths_train_d + paths_train_e\n",
    "\n",
    "paths_test_a = glob.glob(os.path.join(data_dir, 'testing-a', '*.png'))\n",
    "paths_test_b = glob.glob(os.path.join(data_dir, 'testing-b', '*.png'))\n",
    "paths_test_e = glob.glob(os.path.join(data_dir, 'testing-e', '*.png'))\n",
    "paths_test_c = glob.glob(os.path.join(data_dir, 'testing-c', '*.png'))\n",
    "paths_test_d = glob.glob(os.path.join(data_dir, 'testing-d', '*.png'))\n",
    "paths_test_f = glob.glob(os.path.join(data_dir, 'testing-f', '*.png'))+glob.glob(os.path.join(data_dir,'testing-f','*.JPG'))\n",
    "paths_test_auga = glob.glob(os.path.join(data_dir, 'testing-auga', '*.png'))\n",
    "paths_test_augc = glob.glob(os.path.join(data_dir, 'testing-augc', '*.png'))\n",
    "paths_test_all = paths_test_a + paths_test_b + paths_test_c + paths_test_d + paths_test_e + paths_test_f + paths_test_auga + paths_test_augc\n",
    "\n",
    "path_label_train_a = os.path.join(data_dir, 'training-a.csv')\n",
    "path_label_train_b = os.path.join(data_dir, 'training-b.csv')\n",
    "path_label_train_e = os.path.join(data_dir, 'training-e.csv')\n",
    "path_label_train_c = os.path.join(data_dir, 'training-c.csv')\n",
    "path_label_train_d = os.path.join(data_dir, 'training-d.csv')"
   ]
  },
  {
   "cell_type": "code",
   "execution_count": 2,
   "id": "afraid-millennium",
   "metadata": {},
   "outputs": [],
   "source": [
    "import cv2\n",
    "import numpy as np\n",
    "import pandas as pd\n",
    "from tensorflow.keras.utils import to_categorical\n",
    "\n",
    "\n",
    "def get_key(path):\n",
    "\n",
    "    key = path.split(sep=os.sep)[-1]\n",
    "    \n",
    "    return key\n",
    "\n",
    "\n",
    "def get_data(paths_img,path_label=None,resize_dim=None):\n",
    "\n",
    "    X = []\n",
    "    \n",
    "    for i, path in enumerate(paths_img):\n",
    "\n",
    "        img = cv2.imread(path, cv2.IMREAD_GRAYSCALE)\n",
    "        \n",
    "        if resize_dim is not None:\n",
    "            \n",
    "            img = cv2.resize(img, (resize_dim, resize_dim), interpolation = cv2.INTER_AREA)\n",
    "        \n",
    "        gaussian_3 = cv2.GaussianBlur(img, (9, 9), 10.0) \n",
    "        img = cv2.addWeighted(img, 1.5, gaussian_3, -0.5, 0, img)\n",
    "        kernel = np.array([[-1, -1, -1], [-1, 9, -1], [-1, -1, -1]])\n",
    "        img = cv2.filter2D(img, -1, kernel)\n",
    "        \n",
    "        X.append(img) \n",
    "        \n",
    "        if i == len(paths_img) - 1:\n",
    "            \n",
    "            end = '\\n'\n",
    "        \n",
    "        else: \n",
    "            \n",
    "            end = '\\r'\n",
    "        \n",
    "        print('processed {}/{}'.format(i+1, len(paths_img)), end = end)\n",
    "        \n",
    "    X = np.array(X) \n",
    "    \n",
    "    if  path_label is None:\n",
    "        \n",
    "        return X\n",
    "    \n",
    "    else:\n",
    "    \n",
    "        df = pd.read_csv(path_label) \n",
    "        df = df.set_index('filename') \n",
    "\n",
    "        y_label = [df.loc[get_key(path)]['digit'] for path in  paths_img] \n",
    "        y = to_categorical(y_label, 10)\n",
    "\n",
    "        return X, y\n"
   ]
  },
  {
   "cell_type": "code",
   "execution_count": 3,
   "id": "interpreted-danish",
   "metadata": {},
   "outputs": [
    {
     "name": "stdout",
     "output_type": "stream",
     "text": [
      "processed 19702/19702\n",
      "processed 359/359\n",
      "processed 24298/24298\n",
      "processed 10908/10908\n",
      "processed 16778/16778\n"
     ]
    }
   ],
   "source": [
    "RESIZE_DIM = 28\n",
    "\n",
    "X_train_a, y_train_a = get_data(paths_train_a, path_label_train_a, resize_dim =RESIZE_DIM)\n",
    "X_train_b, y_train_b = get_data(paths_train_b, path_label_train_b, resize_dim =RESIZE_DIM)\n",
    "X_train_c, y_train_c = get_data(paths_train_c, path_label_train_c, resize_dim =RESIZE_DIM)\n",
    "X_train_d, y_train_d = get_data(paths_train_d, path_label_train_d, resize_dim =RESIZE_DIM)\n",
    "X_train_e, y_train_e = get_data(paths_train_e, path_label_train_e, resize_dim =RESIZE_DIM)"
   ]
  },
  {
   "cell_type": "code",
   "execution_count": 4,
   "id": "mighty-lancaster",
   "metadata": {},
   "outputs": [
    {
     "data": {
      "text/plain": [
       "((72045, 28, 28), (72045, 10))"
      ]
     },
     "execution_count": 4,
     "metadata": {},
     "output_type": "execute_result"
    }
   ],
   "source": [
    "X_train_all = np.concatenate((X_train_a, X_train_b, X_train_c, X_train_d, X_train_e), axis=0)\n",
    "y_train_all = np.concatenate((y_train_a, y_train_b, y_train_c, y_train_d, y_train_e), axis=0)\n",
    "\n",
    "X_train_all.shape, y_train_all.shape"
   ]
  },
  {
   "cell_type": "code",
   "execution_count": 5,
   "id": "tamil-edwards",
   "metadata": {},
   "outputs": [],
   "source": [
    "numtaY_label = np.argmax(y_train_all, axis=1) \n",
    "\n",
    "# get the list of tuples\n",
    "list_of_tuples = list(zip(numtaY_label)) \n",
    "\n",
    "# Converting lists of tuples into pandas Dataframe. \n",
    "data = pd.DataFrame(list_of_tuples, columns = ['label']) \n",
    "data = data.sort_values(by=['label'])\n",
    "\n",
    "\n",
    "# Change label to alphabets\n",
    "digit_mapper = {0: '০', 1: '১', 2: '২', 3: '৩', 4: '৪', 5: '৫', 6: '৬', 7: '৭', 8: '৮', 9: '৯'}\n",
    "\n",
    "data['label'] = data['label'].map(digit_mapper)"
   ]
  },
  {
   "cell_type": "code",
   "execution_count": 6,
   "id": "56d784f1",
   "metadata": {},
   "outputs": [
    {
     "data": {
      "image/png": "[encoded data removed]",
      "text/plain": [
       "<Figure size 432x288 with 1 Axes>"
      ]
     },
     "metadata": {
      "needs_background": "light"
     },
     "output_type": "display_data"
    }
   ],
   "source": [
    "import seaborn as sns\n",
    "import matplotlib.pyplot as plt\n",
    "import matplotlib.font_manager as fm\n",
    "\n",
    "fe = fm.FontEntry(\n",
    "    fname='models\\data\\Bengali\\font',\n",
    "    name='kalpurush')\n",
    "\n",
    "fm.fontManager.ttflist.insert(0, fe) # or append is fine\n",
    "plt.rcParams['font.family'] = fe.name # = 'your custom ttf font name'\n",
    "plt.rcParams['ytick.labelsize'] = 15\n",
    "\n",
    "graph = sns.countplot(y=data['label'])\n",
    "plt.show()"
   ]
  },
  {
   "cell_type": "code",
   "execution_count": 7,
   "id": "choice-aluminum",
   "metadata": {},
   "outputs": [
    {
     "name": "stdout",
     "output_type": "stream",
     "text": [
      "processed 3489/3489\n",
      "processed 69/69\n",
      "processed 4381/4381\n",
      "processed 1948/1948\n",
      "processed 2970/2970\n",
      "processed 495/495\n",
      "processed 2168/2168\n",
      "processed 2106/2106\n"
     ]
    }
   ],
   "source": [
    "X_test_a = get_data(paths_test_a, resize_dim = RESIZE_DIM)\n",
    "X_test_b = get_data(paths_test_b, resize_dim = RESIZE_DIM)\n",
    "X_test_c = get_data(paths_test_c, resize_dim = RESIZE_DIM)\n",
    "X_test_d = get_data(paths_test_d, resize_dim = RESIZE_DIM)\n",
    "X_test_e = get_data(paths_test_e, resize_dim = RESIZE_DIM)\n",
    "X_test_f = get_data(paths_test_f, resize_dim = RESIZE_DIM)\n",
    "X_test_auga = get_data(paths_test_auga, resize_dim = RESIZE_DIM)\n",
    "X_test_augc = get_data(paths_test_augc, resize_dim = RESIZE_DIM)"
   ]
  },
  {
   "cell_type": "code",
   "execution_count": 8,
   "id": "pursuant-somalia",
   "metadata": {},
   "outputs": [],
   "source": [
    "X_test_all = np.concatenate((X_test_a, X_test_b, X_test_c, X_test_d, X_test_e, X_test_f, X_test_auga, X_test_augc))"
   ]
  },
  {
   "cell_type": "code",
   "execution_count": 9,
   "id": "destroyed-capital",
   "metadata": {},
   "outputs": [],
   "source": [
    "X_train_all = X_train_all.reshape(X_train_all.shape[0], 28, 28, 1).astype('float32')\n",
    "X_test_all = X_test_all.reshape(X_test_all.shape[0], 28, 28, 1).astype('float32')"
   ]
  },
  {
   "cell_type": "code",
   "execution_count": 10,
   "id": "normal-replication",
   "metadata": {},
   "outputs": [],
   "source": [
    "X_train_all /= 255\n",
    "X_test_all /= 255"
   ]
  },
  {
   "cell_type": "code",
   "execution_count": 11,
   "id": "generous-harrison",
   "metadata": {},
   "outputs": [],
   "source": [
    "from sklearn.model_selection import train_test_split\n",
    "\n",
    "X_train, X_val, y_train, y_val = train_test_split(X_train_all, y_train_all, test_size = 0.2, random_state=42)"
   ]
  },
  {
   "cell_type": "code",
   "execution_count": 12,
   "id": "requested-hartford",
   "metadata": {},
   "outputs": [
    {
     "name": "stdout",
     "output_type": "stream",
     "text": [
      "WARNING:tensorflow:From C:\\Users\\Asif_\\anaconda3\\envs\\directML\\lib\\site-packages\\tensorflow_core\\python\\ops\\resource_variable_ops.py:1630: calling BaseResourceVariable.__init__ (from tensorflow.python.ops.resource_variable_ops) with constraint is deprecated and will be removed in a future version.\n",
      "Instructions for updating:\n",
      "If using Keras pass *_constraint arguments to layers.\n"
     ]
    }
   ],
   "source": [
    "import warnings\n",
    "from tensorflow.keras.models import Sequential\n",
    "from tensorflow.keras.layers import Dense, Conv2D, Flatten, MaxPooling2D, Activation, Dropout, BatchNormalization\n",
    "\n",
    "warnings.filterwarnings(\"ignore\", category=DeprecationWarning) \n",
    "\n",
    "# my CNN architecture is In -> [[Conv2D->relu]*2 -> BatchNorm -> MaxPool2D -> Dropout]*3 -> Flatten -> Dense -> Activation -> Dropout -> Dense -> Activation -> Out\n",
    "\n",
    "def my_model(img_size = 28,channels = 1):\n",
    "\n",
    "    model = Sequential()\n",
    "    input_shape = (img_size, img_size, channels)\n",
    "    \n",
    "    model.add(Conv2D(32, (5, 5), input_shape = input_shape, activation = 'relu', padding = 'same'))\n",
    "    model.add(Conv2D(32, (5, 5), activation = 'relu', padding = 'same'))\n",
    "    model.add(BatchNormalization())\n",
    "    model.add(MaxPooling2D(pool_size=(2, 2)))\n",
    "\n",
    "    model.add(Conv2D(128, (3, 3), activation = 'relu', padding = 'same'))\n",
    "    model.add(Conv2D(128, (3, 3), activation = 'relu', padding = 'same'))\n",
    "    model.add(BatchNormalization())\n",
    "    model.add(MaxPooling2D(pool_size=(2, 2)))\n",
    "\n",
    "    model.add(Conv2D(256, (3, 3), activation = 'relu', padding = 'same'))\n",
    "    model.add(Conv2D(256, (3, 3), activation ='relu' , padding = 'same'))\n",
    "    model.add(BatchNormalization())\n",
    "    model.add(MaxPooling2D(pool_size=(2, 2)))\n",
    "\n",
    "    model.add(Flatten())\n",
    "    model.add(Dense(64))\n",
    "    model.add(Activation('relu'))\n",
    "    model.add(Dropout(0.2))\n",
    "    \n",
    "    model.add(Dense(10))\n",
    "    model.add(Activation('softmax'))\n",
    "    \n",
    "    model.compile(loss = 'categorical_crossentropy', metrics = ['accuracy'], optimizer = 'adam')\n",
    "    \n",
    "    return model\n",
    "\n",
    "\n",
    "model = my_model()"
   ]
  },
  {
   "cell_type": "code",
   "execution_count": 13,
   "id": "attempted-leonard",
   "metadata": {
    "scrolled": false
   },
   "outputs": [
    {
     "name": "stdout",
     "output_type": "stream",
     "text": [
      "Train on 57636 samples, validate on 14409 samples\n",
      "Epoch 1/30\n",
      "57636/57636 [==============================] - 250s 4ms/sample - loss: 0.6082 - acc: 0.7872 - val_loss: 0.1754 - val_acc: 0.9435\n",
      "Epoch 2/30\n",
      "57636/57636 [==============================] - 245s 4ms/sample - loss: 0.1455 - acc: 0.9573 - val_loss: 0.4433 - val_acc: 0.8816\n",
      "Epoch 3/30\n",
      "57636/57636 [==============================] - 245s 4ms/sample - loss: 0.1028 - acc: 0.9702 - val_loss: 0.2063 - val_acc: 0.9398\n",
      "Epoch 4/30\n",
      "57636/57636 [==============================] - 244s 4ms/sample - loss: 0.0832 - acc: 0.9755 - val_loss: 0.1251 - val_acc: 0.9655\n",
      "Epoch 5/30\n",
      "57636/57636 [==============================] - 245s 4ms/sample - loss: 0.0686 - acc: 0.9800 - val_loss: 0.1644 - val_acc: 0.9551\n",
      "Epoch 6/30\n",
      "57636/57636 [==============================] - 244s 4ms/sample - loss: 0.0577 - acc: 0.9835 - val_loss: 0.0847 - val_acc: 0.9774\n",
      "Epoch 7/30\n",
      "57636/57636 [==============================] - 245s 4ms/sample - loss: 0.0521 - acc: 0.9844 - val_loss: 0.1367 - val_acc: 0.9606\n",
      "Epoch 8/30\n",
      "57636/57636 [==============================] - 245s 4ms/sample - loss: 0.0487 - acc: 0.9864 - val_loss: 0.1299 - val_acc: 0.9647\n",
      "Epoch 9/30\n",
      "57636/57636 [==============================] - 245s 4ms/sample - loss: 0.0374 - acc: 0.9891 - val_loss: 0.1035 - val_acc: 0.9743\n",
      "Epoch 10/30\n",
      "57636/57636 [==============================] - 246s 4ms/sample - loss: 0.0340 - acc: 0.9896 - val_loss: 0.1001 - val_acc: 0.9762\n",
      "Epoch 11/30\n",
      "57636/57636 [==============================] - 246s 4ms/sample - loss: 0.0316 - acc: 0.9906 - val_loss: 0.0708 - val_acc: 0.9840\n",
      "Epoch 12/30\n",
      "57636/57636 [==============================] - 246s 4ms/sample - loss: 0.0292 - acc: 0.9914 - val_loss: 0.0859 - val_acc: 0.9828\n",
      "Epoch 13/30\n",
      "57636/57636 [==============================] - 246s 4ms/sample - loss: 0.0261 - acc: 0.9926 - val_loss: 0.0830 - val_acc: 0.9812\n",
      "Epoch 14/30\n",
      "57636/57636 [==============================] - 247s 4ms/sample - loss: 0.0204 - acc: 0.9939 - val_loss: 0.1034 - val_acc: 0.9781\n",
      "Epoch 15/30\n",
      "57636/57636 [==============================] - 245s 4ms/sample - loss: 0.0228 - acc: 0.9931 - val_loss: 0.0753 - val_acc: 0.9836\n",
      "Epoch 16/30\n",
      "57636/57636 [==============================] - 244s 4ms/sample - loss: 0.0241 - acc: 0.9931 - val_loss: 0.0971 - val_acc: 0.9819\n",
      "Epoch 17/30\n",
      "57636/57636 [==============================] - 245s 4ms/sample - loss: 0.0190 - acc: 0.9944 - val_loss: 0.1018 - val_acc: 0.9792\n",
      "Epoch 18/30\n",
      "57636/57636 [==============================] - 244s 4ms/sample - loss: 0.0182 - acc: 0.9945 - val_loss: 0.0883 - val_acc: 0.9822\n",
      "Epoch 19/30\n",
      "57636/57636 [==============================] - 244s 4ms/sample - loss: 0.0168 - acc: 0.9953 - val_loss: 0.0789 - val_acc: 0.9838\n",
      "Epoch 20/30\n",
      "57636/57636 [==============================] - 245s 4ms/sample - loss: 0.0125 - acc: 0.9960 - val_loss: 0.0945 - val_acc: 0.9824\n",
      "Epoch 21/30\n",
      "57636/57636 [==============================] - 244s 4ms/sample - loss: 0.0147 - acc: 0.9958 - val_loss: 0.1075 - val_acc: 0.9838\n",
      "Epoch 22/30\n",
      "57636/57636 [==============================] - 244s 4ms/sample - loss: 0.0149 - acc: 0.9951 - val_loss: 0.1156 - val_acc: 0.9806\n",
      "Epoch 23/30\n",
      "57636/57636 [==============================] - 244s 4ms/sample - loss: 0.0127 - acc: 0.9961 - val_loss: 0.1038 - val_acc: 0.9836\n",
      "Epoch 24/30\n",
      "57636/57636 [==============================] - 245s 4ms/sample - loss: 0.0117 - acc: 0.9968 - val_loss: 0.1033 - val_acc: 0.9834\n",
      "Epoch 25/30\n",
      "57636/57636 [==============================] - 245s 4ms/sample - loss: 0.0126 - acc: 0.9962 - val_loss: 0.0987 - val_acc: 0.9826\n",
      "Epoch 26/30\n",
      "57636/57636 [==============================] - 248s 4ms/sample - loss: 0.0106 - acc: 0.9971 - val_loss: 0.0847 - val_acc: 0.9837\n",
      "Epoch 27/30\n",
      "57636/57636 [==============================] - 248s 4ms/sample - loss: 0.0120 - acc: 0.9967 - val_loss: 0.1077 - val_acc: 0.9842\n",
      "Epoch 28/30\n",
      "57636/57636 [==============================] - 251s 4ms/sample - loss: 0.0092 - acc: 0.9974 - val_loss: 0.1177 - val_acc: 0.9851\n",
      "Epoch 29/30\n",
      "57636/57636 [==============================] - 253s 4ms/sample - loss: 0.0153 - acc: 0.9959 - val_loss: 0.1108 - val_acc: 0.9722\n",
      "Epoch 30/30\n",
      "57636/57636 [==============================] - 253s 4ms/sample - loss: 0.0106 - acc: 0.9966 - val_loss: 0.0948 - val_acc: 0.9862\n"
     ]
    }
   ],
   "source": [
    "from tensorflow.keras import backend as K\n",
    "from tensorflow.keras.callbacks import ModelCheckpoint\n",
    "\n",
    "\n",
    "path_model = 'output/B_D.h5'\n",
    "\n",
    "K.clear_session() \n",
    "\n",
    "model = my_model() \n",
    "\n",
    "K.set_value(model.optimizer.lr, 1e-3)\n",
    "\n",
    "# fit the model\n",
    "history = model.fit(x = X_train, y = y_train, batch_size = 64, epochs=30, verbose=1, validation_data=(X_val,y_val), shuffle=True, callbacks=[ModelCheckpoint(filepath = path_model)])"
   ]
  },
  {
   "cell_type": "code",
   "execution_count": 14,
   "id": "immediate-profession",
   "metadata": {},
   "outputs": [
    {
     "name": "stdout",
     "output_type": "stream",
     "text": [
      "Test loss: 0.0948%\n",
      "Test accuracy: 0.9862%\n",
      "Large CNN Error: 1.3811%\n"
     ]
    }
   ],
   "source": [
    "# Final evaluation of the model\n",
    "scores = model.evaluate(X_val, y_val, verbose = 0)\n",
    "\n",
    "print('Test loss: %.4f%%' % scores[0])\n",
    "print('Test accuracy: %.4f%%' % scores[1])\n",
    "\n",
    "print(\"Large CNN Error: %.4f%%\" % (100-scores[1]*100))"
   ]
  },
  {
   "cell_type": "code",
   "execution_count": null,
   "id": "conditional-frederick",
   "metadata": {},
   "outputs": [],
   "source": []
  }
 ],
 "metadata": {
  "kernelspec": {
   "display_name": "Python 3",
   "language": "python",
   "name": "python3"
  },
  "language_info": {
   "codemirror_mode": {
    "name": "ipython",
    "version": 3
   },
   "file_extension": ".py",
   "mimetype": "text/x-python",
   "name": "python",
   "nbconvert_exporter": "python",
   "pygments_lexer": "ipython3",
   "version": "3.7.10"
  }
 },
 "nbformat": 4,
 "nbformat_minor": 5
}
