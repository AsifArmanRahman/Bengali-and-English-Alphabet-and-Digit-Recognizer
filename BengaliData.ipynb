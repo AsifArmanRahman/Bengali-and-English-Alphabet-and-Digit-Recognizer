{
 "cells": [
  {
   "cell_type": "code",
   "execution_count": 1,
   "id": "local-messenger",
   "metadata": {},
   "outputs": [],
   "source": [
    "import os\n",
    "import glob\n",
    "\n",
    "data_dir = os.path.join('Data/Bengali','NumtaDB')\n",
    "\n",
    "paths_train_a = glob.glob(os.path.join(data_dir, 'training-a', '*.png'))\n",
    "paths_train_b = glob.glob(os.path.join(data_dir, 'training-b', '*.png'))\n",
    "paths_train_e = glob.glob(os.path.join(data_dir, 'training-e', '*.png'))\n",
    "paths_train_c = glob.glob(os.path.join(data_dir, 'training-c', '*.png'))\n",
    "paths_train_d = glob.glob(os.path.join(data_dir, 'training-d', '*.png'))\n",
    "paths_train_all = paths_train_a + paths_train_b + paths_train_c + paths_train_d + paths_train_e\n",
    "\n",
    "paths_test_a = glob.glob(os.path.join(data_dir, 'testing-a', '*.png'))\n",
    "paths_test_b = glob.glob(os.path.join(data_dir, 'testing-b', '*.png'))\n",
    "paths_test_e = glob.glob(os.path.join(data_dir, 'testing-e', '*.png'))\n",
    "paths_test_c = glob.glob(os.path.join(data_dir, 'testing-c', '*.png'))\n",
    "paths_test_d = glob.glob(os.path.join(data_dir, 'testing-d', '*.png'))\n",
    "paths_test_f = glob.glob(os.path.join(data_dir, 'testing-f', '*.png'))+glob.glob(os.path.join(data_dir,'testing-f','*.JPG'))\n",
    "paths_test_auga = glob.glob(os.path.join(data_dir, 'testing-auga', '*.png'))\n",
    "paths_test_augc = glob.glob(os.path.join(data_dir, 'testing-augc', '*.png'))\n",
    "paths_test_all = paths_test_a + paths_test_b + paths_test_c + paths_test_d + paths_test_e + paths_test_f + paths_test_auga + paths_test_augc\n",
    "\n",
    "path_label_train_a = os.path.join(data_dir, 'training-a.csv')\n",
    "path_label_train_b = os.path.join(data_dir, 'training-b.csv')\n",
    "path_label_train_e = os.path.join(data_dir, 'training-e.csv')\n",
    "path_label_train_c = os.path.join(data_dir, 'training-c.csv')\n",
    "path_label_train_d = os.path.join(data_dir, 'training-d.csv')"
   ]
  },
  {
   "cell_type": "code",
   "execution_count": 2,
   "id": "afraid-millennium",
   "metadata": {},
   "outputs": [],
   "source": [
    "import cv2\n",
    "import numpy as np\n",
    "import pandas as pd\n",
    "from keras.utils import to_categorical\n",
    "\n",
    "\n",
    "def get_key(path):\n",
    "\n",
    "    key = path.split(sep=os.sep)[-1]\n",
    "    \n",
    "    return key\n",
    "\n",
    "\n",
    "def get_data(paths_img,path_label=None,resize_dim=None):\n",
    "\n",
    "    X = []\n",
    "    \n",
    "    for i, path in enumerate(paths_img):\n",
    "\n",
    "        img = cv2.imread(path, cv2.IMREAD_GRAYSCALE)\n",
    "        \n",
    "        if resize_dim is not None:\n",
    "            \n",
    "            img = cv2.resize(img, (resize_dim, resize_dim), interpolation = cv2.INTER_AREA)\n",
    "        \n",
    "        gaussian_3 = cv2.GaussianBlur(img, (9, 9), 10.0) \n",
    "        img = cv2.addWeighted(img, 1.5, gaussian_3, -0.5, 0, img)\n",
    "        kernel = np.array([[-1, -1, -1], [-1, 9, -1], [-1, -1, -1]])\n",
    "        img = cv2.filter2D(img, -1, kernel)\n",
    "        \n",
    "        X.append(img) \n",
    "        \n",
    "        if i == len(paths_img) - 1:\n",
    "            \n",
    "            end = '\\n'\n",
    "        \n",
    "        else: \n",
    "            \n",
    "            end = '\\r'\n",
    "        \n",
    "        print('processed {}/{}'.format(i+1, len(paths_img)), end = end)\n",
    "        \n",
    "    X = np.array(X) \n",
    "    \n",
    "    if  path_label is None:\n",
    "        \n",
    "        return X\n",
    "    \n",
    "    else:\n",
    "    \n",
    "        df = pd.read_csv(path_label) \n",
    "        df = df.set_index('filename') \n",
    "\n",
    "        y_label = [df.loc[get_key(path)]['digit'] for path in  paths_img] \n",
    "        y = to_categorical(y_label, 10)\n",
    "\n",
    "        return X, y\n"
   ]
  },
  {
   "cell_type": "code",
   "execution_count": 3,
   "id": "interpreted-danish",
   "metadata": {},
   "outputs": [
    {
     "name": "stdout",
     "output_type": "stream",
     "text": [
      "processed 19702/19702\n",
      "processed 359/359\n",
      "processed 24298/24298\n",
      "processed 10908/10908\n",
      "processed 16778/16778\n"
     ]
    }
   ],
   "source": [
    "RESIZE_DIM = 28\n",
    "\n",
    "X_train_a, y_train_a = get_data(paths_train_a, path_label_train_a, resize_dim =RESIZE_DIM)\n",
    "X_train_b, y_train_b = get_data(paths_train_b, path_label_train_b, resize_dim =RESIZE_DIM)\n",
    "X_train_c, y_train_c = get_data(paths_train_c, path_label_train_c, resize_dim =RESIZE_DIM)\n",
    "X_train_d, y_train_d = get_data(paths_train_d, path_label_train_d, resize_dim =RESIZE_DIM)\n",
    "X_train_e, y_train_e = get_data(paths_train_e, path_label_train_e, resize_dim =RESIZE_DIM)"
   ]
  },
  {
   "cell_type": "code",
   "execution_count": 4,
   "id": "mighty-lancaster",
   "metadata": {},
   "outputs": [
    {
     "data": {
      "text/plain": [
       "((72045, 28, 28), (72045, 10))"
      ]
     },
     "execution_count": 4,
     "metadata": {},
     "output_type": "execute_result"
    }
   ],
   "source": [
    "X_train_all = np.concatenate((X_train_a, X_train_b, X_train_c, X_train_d, X_train_e), axis=0)\n",
    "y_train_all = np.concatenate((y_train_a, y_train_b, y_train_c, y_train_d, y_train_e), axis=0)\n",
    "\n",
    "X_train_all.shape, y_train_all.shape"
   ]
  },
  {
   "cell_type": "code",
   "execution_count": 5,
   "id": "tamil-edwards",
   "metadata": {},
   "outputs": [
    {
     "data": {
      "text/plain": [
       "(72045, 28, 28)"
      ]
     },
     "execution_count": 5,
     "metadata": {},
     "output_type": "execute_result"
    }
   ],
   "source": [
    "X_show_all = X_train_all\n",
    "\n",
    "X_show_all.shape"
   ]
  },
  {
   "cell_type": "code",
   "execution_count": 6,
   "id": "choice-aluminum",
   "metadata": {},
   "outputs": [
    {
     "name": "stdout",
     "output_type": "stream",
     "text": [
      "processed 3489/3489\n",
      "processed 69/69\n",
      "processed 4381/4381\n",
      "processed 1948/1948\n",
      "processed 2970/2970\n",
      "processed 495/495\n",
      "processed 2168/2168\n",
      "processed 2106/2106\n"
     ]
    }
   ],
   "source": [
    "X_test_a = get_data(paths_test_a, resize_dim = RESIZE_DIM)\n",
    "X_test_b = get_data(paths_test_b, resize_dim = RESIZE_DIM)\n",
    "X_test_c = get_data(paths_test_c, resize_dim = RESIZE_DIM)\n",
    "X_test_d = get_data(paths_test_d, resize_dim = RESIZE_DIM)\n",
    "X_test_e = get_data(paths_test_e, resize_dim = RESIZE_DIM)\n",
    "X_test_f = get_data(paths_test_f, resize_dim = RESIZE_DIM)\n",
    "X_test_auga = get_data(paths_test_auga, resize_dim = RESIZE_DIM)\n",
    "X_test_augc = get_data(paths_test_augc, resize_dim = RESIZE_DIM)"
   ]
  },
  {
   "cell_type": "code",
   "execution_count": 7,
   "id": "pursuant-somalia",
   "metadata": {},
   "outputs": [],
   "source": [
    "X_test_all = np.concatenate((X_test_a, X_test_b, X_test_c, X_test_d, X_test_e, X_test_f, X_test_auga, X_test_augc))"
   ]
  },
  {
   "cell_type": "code",
   "execution_count": 8,
   "id": "moved-genealogy",
   "metadata": {},
   "outputs": [
    {
     "data": {
      "text/plain": [
       "(17626, 28, 28)"
      ]
     },
     "execution_count": 8,
     "metadata": {},
     "output_type": "execute_result"
    }
   ],
   "source": [
    "X_tshow_all = X_test_all\n",
    "\n",
    "X_tshow_all.shape"
   ]
  },
  {
   "cell_type": "code",
   "execution_count": 9,
   "id": "destroyed-capital",
   "metadata": {},
   "outputs": [],
   "source": [
    "X_train_all = X_train_all.reshape(X_train_all.shape[0], 28, 28, 1).astype('float32')\n",
    "X_test_all = X_test_all.reshape(X_test_all.shape[0], 28, 28, 1).astype('float32')"
   ]
  },
  {
   "cell_type": "code",
   "execution_count": 10,
   "id": "normal-replication",
   "metadata": {},
   "outputs": [],
   "source": [
    "X_train_all /= 255\n",
    "X_test_all /= 255"
   ]
  },
  {
   "cell_type": "code",
   "execution_count": 11,
   "id": "generous-harrison",
   "metadata": {},
   "outputs": [],
   "source": [
    "indices = list(range(len(X_train_all)))\n",
    "\n",
    "np.random.seed(42)\n",
    "np.random.shuffle(indices)\n",
    "\n",
    "ind = int(len(indices) * 0.80)\n",
    "\n",
    "# train data\n",
    "X_train = X_train_all[indices[:ind]] \n",
    "y_train = y_train_all[indices[:ind]]\n",
    "\n",
    "# validation data\n",
    "X_val = X_train_all[indices[-(len(indices)-ind):]] \n",
    "y_val = y_train_all[indices[-(len(indices)-ind):]]"
   ]
  },
  {
   "cell_type": "code",
   "execution_count": 12,
   "id": "requested-hartford",
   "metadata": {},
   "outputs": [],
   "source": [
    "from keras.models import Sequential\n",
    "from keras.layers import Dense, Activation\n",
    "from keras.layers import Dense, Input, Conv2D, Flatten, MaxPooling2D, Activation,Dropout,BatchNormalization\n",
    "\n",
    "# my CNN architechture is In -> [[Conv2D->relu]*2 -> BatchNorm -> MaxPool2D -> Dropout]*3 -> Flatten -> Dense -> Activation -> Dropout -> Dense -> Activation -> Out\n",
    "\n",
    "def my_model(img_size = 28,channels = 1):\n",
    "\n",
    "    model = Sequential()\n",
    "    input_shape = (img_size, img_size, channels)\n",
    "    \n",
    "    model.add(Conv2D(32, (5, 5), input_shape = input_shape, activation = 'relu', padding = 'same'))\n",
    "    model.add(Conv2D(32, (5, 5), activation = 'relu', padding = 'same'))\n",
    "    model.add(BatchNormalization())\n",
    "    model.add(MaxPooling2D(pool_size=(2, 2)))\n",
    "\n",
    "    model.add(Conv2D(128, (3, 3), activation = 'relu', padding = 'same'))\n",
    "    model.add(Conv2D(128, (3, 3), activation = 'relu', padding = 'same'))\n",
    "    model.add(BatchNormalization())\n",
    "    model.add(MaxPooling2D(pool_size=(2, 2)))\n",
    "\n",
    "    model.add(Conv2D(256, (3, 3), activation = 'relu', padding = 'same'))\n",
    "    model.add(Conv2D(256, (3, 3), activation ='relu' , padding = 'same'))\n",
    "    model.add(BatchNormalization())\n",
    "    model.add(MaxPooling2D(pool_size=(2, 2)))\n",
    "\n",
    "    model.add(Flatten())\n",
    "    model.add(Dense(64))\n",
    "    model.add(Activation('relu'))\n",
    "    model.add(Dropout(0.2))\n",
    "    \n",
    "    model.add(Dense(10))\n",
    "    model.add(Activation('softmax'))\n",
    "    \n",
    "    model.compile(loss = 'categorical_crossentropy', metrics = ['accuracy'], optimizer = 'adam')\n",
    "    \n",
    "    return model\n",
    "\n",
    "\n",
    "model = my_model()"
   ]
  },
  {
   "cell_type": "code",
   "execution_count": 13,
   "id": "attempted-leonard",
   "metadata": {
    "scrolled": false
   },
   "outputs": [
    {
     "name": "stdout",
     "output_type": "stream",
     "text": [
      "Epoch 1/30\n",
      "901/901 [==============================] - 503s 558ms/step - loss: 0.4945 - accuracy: 0.8351 - val_loss: 0.2055 - val_accuracy: 0.9352\n",
      "Epoch 2/30\n",
      "901/901 [==============================] - 503s 558ms/step - loss: 0.1347 - accuracy: 0.9604 - val_loss: 0.2919 - val_accuracy: 0.9014\n",
      "Epoch 3/30\n",
      "901/901 [==============================] - 483s 537ms/step - loss: 0.1011 - accuracy: 0.9704 - val_loss: 0.1182 - val_accuracy: 0.9650\n",
      "Epoch 4/30\n",
      "901/901 [==============================] - 450s 499ms/step - loss: 0.0756 - accuracy: 0.9769 - val_loss: 0.1307 - val_accuracy: 0.9634\n",
      "Epoch 5/30\n",
      "901/901 [==============================] - 443s 491ms/step - loss: 0.0643 - accuracy: 0.9810 - val_loss: 0.1305 - val_accuracy: 0.9622\n",
      "Epoch 6/30\n",
      "901/901 [==============================] - 447s 496ms/step - loss: 0.0623 - accuracy: 0.9826 - val_loss: 0.0991 - val_accuracy: 0.9720\n",
      "Epoch 7/30\n",
      "901/901 [==============================] - 472s 523ms/step - loss: 0.0484 - accuracy: 0.9858 - val_loss: 0.0845 - val_accuracy: 0.9780\n",
      "Epoch 8/30\n",
      "901/901 [==============================] - 478s 530ms/step - loss: 0.0431 - accuracy: 0.9868 - val_loss: 0.1103 - val_accuracy: 0.9723\n",
      "Epoch 9/30\n",
      "901/901 [==============================] - 545s 605ms/step - loss: 0.0384 - accuracy: 0.9885 - val_loss: 0.0814 - val_accuracy: 0.9792\n",
      "Epoch 10/30\n",
      "901/901 [==============================] - 481s 534ms/step - loss: 0.0355 - accuracy: 0.9894 - val_loss: 0.0829 - val_accuracy: 0.9814\n",
      "Epoch 11/30\n",
      "901/901 [==============================] - 478s 531ms/step - loss: 0.0313 - accuracy: 0.9909 - val_loss: 0.0757 - val_accuracy: 0.9815\n",
      "Epoch 12/30\n",
      "901/901 [==============================] - 503s 558ms/step - loss: 0.0299 - accuracy: 0.9913 - val_loss: 0.0795 - val_accuracy: 0.9835\n",
      "Epoch 13/30\n",
      "901/901 [==============================] - 513s 569ms/step - loss: 0.0247 - accuracy: 0.9927 - val_loss: 0.0693 - val_accuracy: 0.9840\n",
      "Epoch 14/30\n",
      "901/901 [==============================] - 433s 481ms/step - loss: 0.0216 - accuracy: 0.9934 - val_loss: 0.0923 - val_accuracy: 0.9797\n",
      "Epoch 15/30\n",
      "901/901 [==============================] - 433s 480ms/step - loss: 0.0207 - accuracy: 0.9937 - val_loss: 0.0935 - val_accuracy: 0.9815\n",
      "Epoch 16/30\n",
      "901/901 [==============================] - 432s 479ms/step - loss: 0.0204 - accuracy: 0.9942 - val_loss: 0.0994 - val_accuracy: 0.9806\n",
      "Epoch 17/30\n",
      "901/901 [==============================] - 432s 480ms/step - loss: 0.0178 - accuracy: 0.9949 - val_loss: 0.1337 - val_accuracy: 0.9722\n",
      "Epoch 18/30\n",
      "901/901 [==============================] - 436s 484ms/step - loss: 0.0204 - accuracy: 0.9939 - val_loss: 0.0824 - val_accuracy: 0.9836\n",
      "Epoch 19/30\n",
      "901/901 [==============================] - 461s 511ms/step - loss: 0.0157 - accuracy: 0.9957 - val_loss: 0.0833 - val_accuracy: 0.9847\n",
      "Epoch 20/30\n",
      "901/901 [==============================] - 490s 543ms/step - loss: 0.0120 - accuracy: 0.9963 - val_loss: 0.0950 - val_accuracy: 0.9848\n",
      "Epoch 21/30\n",
      "901/901 [==============================] - 516s 573ms/step - loss: 0.0131 - accuracy: 0.9963 - val_loss: 0.0901 - val_accuracy: 0.9828\n",
      "Epoch 22/30\n",
      "901/901 [==============================] - 513s 570ms/step - loss: 0.0130 - accuracy: 0.9961 - val_loss: 0.0961 - val_accuracy: 0.9829\n",
      "Epoch 23/30\n",
      "901/901 [==============================] - 458s 508ms/step - loss: 0.0138 - accuracy: 0.9956 - val_loss: 0.0986 - val_accuracy: 0.9831\n",
      "Epoch 24/30\n",
      "901/901 [==============================] - 448s 498ms/step - loss: 0.0144 - accuracy: 0.9964 - val_loss: 0.1080 - val_accuracy: 0.9812\n",
      "Epoch 25/30\n",
      "901/901 [==============================] - 452s 502ms/step - loss: 0.0086 - accuracy: 0.9972 - val_loss: 0.0919 - val_accuracy: 0.9849\n",
      "Epoch 26/30\n",
      "901/901 [==============================] - 485s 539ms/step - loss: 0.0136 - accuracy: 0.9965 - val_loss: 0.0762 - val_accuracy: 0.9879\n",
      "Epoch 27/30\n",
      "901/901 [==============================] - 488s 542ms/step - loss: 0.0124 - accuracy: 0.9967 - val_loss: 0.0889 - val_accuracy: 0.9828\n",
      "Epoch 28/30\n",
      "901/901 [==============================] - 471s 523ms/step - loss: 0.0097 - accuracy: 0.9973 - val_loss: 0.0934 - val_accuracy: 0.9858\n",
      "Epoch 29/30\n",
      "901/901 [==============================] - 482s 535ms/step - loss: 0.0110 - accuracy: 0.9972 - val_loss: 0.0905 - val_accuracy: 0.9847\n",
      "Epoch 30/30\n",
      "901/901 [==============================] - 495s 549ms/step - loss: 0.0089 - accuracy: 0.9975 - val_loss: 0.0949 - val_accuracy: 0.9854\n"
     ]
    }
   ],
   "source": [
    "from keras import backend as K\n",
    "from keras.callbacks import ModelCheckpoint\n",
    "\n",
    "\n",
    "path_model = 'Models\\numdtaBD.h5'\n",
    "\n",
    "K.clear_session() \n",
    "\n",
    "model = my_model() \n",
    "\n",
    "K.set_value(model.optimizer.lr, 1e-3)\n",
    "\n",
    "# fit the model\n",
    "history = model.fit(x = X_train, y = y_train, batch_size = 64, epochs=30, verbose=1, validation_data=(X_val,y_val), shuffle=True, callbacks=[ModelCheckpoint(filepath = path_model)])"
   ]
  },
  {
   "cell_type": "code",
   "execution_count": 14,
   "id": "immediate-profession",
   "metadata": {},
   "outputs": [
    {
     "name": "stdout",
     "output_type": "stream",
     "text": [
      "Test loss: 0.0949%\n",
      "Test accuracy: 0.9854%\n",
      "Large CNN Error: 1.4644%\n"
     ]
    }
   ],
   "source": [
    "# Final evaluation of the model\n",
    "scores = model.evaluate(X_val, y_val, verbose = 0)\n",
    "\n",
    "print('Test loss: %.4f%%' % scores[0])\n",
    "print('Test accuracy: %.4f%%' % scores[1])\n",
    "\n",
    "print(\"Large CNN Error: %.4f%%\" % (100-scores[1]*100))\n"
   ]
  },
  {
   "cell_type": "code",
   "execution_count": 15,
   "id": "thousand-bundle",
   "metadata": {},
   "outputs": [
    {
     "data": {
      "image/png": "[encoded data removed]",
      "text/plain": [
       "<Figure size 720x720 with 2 Axes>"
      ]
     },
     "metadata": {
      "needs_background": "light"
     },
     "output_type": "display_data"
    }
   ],
   "source": [
    "import matplotlib.pyplot as plt\n",
    "%matplotlib inline\n",
    "\n",
    "# Plot the loss and accuracy curves for training and validation \n",
    "\n",
    "fig, ax = plt.subplots(2,1,figsize=(10, 10))\n",
    "\n",
    "ax[0].plot(history.history['loss'], color = 'b', label = \"Training loss\")\n",
    "ax[0].plot(history.history['val_loss'], color = 'r', label = \"validation loss\", axes = ax[0])\n",
    "legend = ax[0].legend(loc = 'best', shadow = True)\n",
    "\n",
    "ax[1].plot(history.history['accuracy'], color = 'b', label = \"Training accuracy\")\n",
    "ax[1].plot(history.history['val_accuracy'], color = 'r', label = \"Validation accuracy\")\n",
    "legend = ax[1].legend(loc = 'best', shadow = True)"
   ]
  },
  {
   "cell_type": "code",
   "execution_count": null,
   "id": "conditional-frederick",
   "metadata": {},
   "outputs": [],
   "source": []
  }
 ],
 "metadata": {
  "kernelspec": {
   "display_name": "Python 3",
   "language": "python",
   "name": "python3"
  },
  "language_info": {
   "codemirror_mode": {
    "name": "ipython",
    "version": 3
   },
   "file_extension": ".py",
   "mimetype": "text/x-python",
   "name": "python",
   "nbconvert_exporter": "python",
   "pygments_lexer": "ipython3",
   "version": "3.8.8"
  }
 },
 "nbformat": 4,
 "nbformat_minor": 5
}
